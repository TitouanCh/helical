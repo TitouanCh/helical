{
 "cells": [
  {
   "cell_type": "markdown",
   "id": "0da8f9ef-74a0-4332-a1d5-25d94c2965f5",
   "metadata": {},
   "source": [
    "# In-Silico Perturbation"
   ]
  },
  {
   "cell_type": "markdown",
   "id": "bb6c0581-8b90-4ec2-87aa-de458408535f",
   "metadata": {},
   "source": [
    "**Helical-ai:** Develop a workflow to simulate knock-up and knock-down experiments for specified\n",
    "genes. The workflow should integrate biologically relevant noise to mimic real-world\n",
    "variability and provide flexibility for scaling to multiple genes.\n",
    "\n",
    "**Titouan:** I chose a simple approach using the AnnData object, as it is commonly used in the Helical package. I built a function that processes count data and allows you to apply either a \"knock-down\" or \"knock-up\" effect on a specified list of genes. This means you can increase or decrease the counts of those genes by a specified percentage. To better simulate real-world variability, I also added noise to the data. Finally, I created a separate function to simulate count data, which I used to test my implementation."
   ]
  },
  {
   "cell_type": "markdown",
   "id": "4c34fb88-e820-4f21-9b99-85e38fe69274",
   "metadata": {},
   "source": [
    "## 1) Imports"
   ]
  },
  {
   "cell_type": "code",
   "execution_count": 1,
   "id": "aebe65fe-d856-48fc-a4a3-c19ab752ad4e",
   "metadata": {},
   "outputs": [],
   "source": [
    "import numpy as np\n",
    "from anndata import AnnData"
   ]
  },
  {
   "cell_type": "markdown",
   "id": "cf6287d5-42bf-4f5e-ae3d-00fa3278cf36",
   "metadata": {},
   "source": [
    "## 2) Functions"
   ]
  },
  {
   "cell_type": "code",
   "execution_count": 2,
   "id": "85befeda-04d7-4d6b-abdf-7fa38072e754",
   "metadata": {},
   "outputs": [],
   "source": [
    "def simulate_count_data(n_gene: int, n_samples: int, max_count: int = 512) -> AnnData:\n",
    "    \"\"\"\n",
    "    Simulate count data for gene expression analysis.\n",
    "\n",
    "    Generates a random count matrix with integer values between 0 and `max_count`, \n",
    "    stored in an AnnData object with simulated gene and sample names.\n",
    "\n",
    "    Parameters\n",
    "    ----------\n",
    "    n_gene : int\n",
    "        Number of genes (rows).\n",
    "    n_samples : int\n",
    "        Number of samples or cells (columns).\n",
    "    max_count : int, optional\n",
    "        Maximum count value (default is 512).\n",
    "\n",
    "    Returns\n",
    "    -------\n",
    "    AnnData\n",
    "        An AnnData object containing:\n",
    "        - `X`: Random count matrix (n_gene x n_samples).\n",
    "        - `obs`: Sample metadata with 'samples' column.\n",
    "        - `var`: Gene metadata with 'gene_names' column.\n",
    "    adata = AnnData(\n",
    "        X = np.random.randint(0, 512, size=(n_gene, n_samples)),\n",
    "    )\n",
    "    \"\"\"\n",
    "    adata = AnnData(\n",
    "        X = np.random.randint(0, 512, size=(n_gene, n_samples)),\n",
    "    )\n",
    "    samples = [f\"CELL{i:d}\" for i in range(adata.n_obs)]\n",
    "    gene_names = [f\"GENE{i:d}\" for i in range(adata.n_vars)]\n",
    "    adata.obs.index = samples\n",
    "    adata.var.index = gene_names\n",
    "    adata.obs['samples'] = samples\n",
    "    adata.var['gene_names'] = gene_names\n",
    "\n",
    "    return adata"
   ]
  },
  {
   "cell_type": "code",
   "execution_count": 3,
   "id": "78092ad1-a912-43da-ac26-a3963edc16ce",
   "metadata": {},
   "outputs": [],
   "source": [
    "def perturb_genes_counts(\n",
    "    adata: AnnData,\n",
    "    gene_names,\n",
    "    target_genes: list,\n",
    "    knock_type: str = \"knock-down\",\n",
    "    fold_change: float = 0.5,\n",
    "    noise_level: float = 0.1,\n",
    ") -> AnnData:\n",
    "    \"\"\"\n",
    "    Simulates knock-up or knock-down of specified genes in an AnnData object with count data.\n",
    "\n",
    "    Args:\n",
    "        adata (AnnData): The AnnData object containing the count matrix.\n",
    "        target_genes (list): List of genes to perturb.\n",
    "        knock_type (str): \"knock-up\" or \"knock-down\".\n",
    "        fold_change (float): Fold change to apply (e.g., 0.5 for 50% knock-down).\n",
    "        noise_level (float): Noise level to add to the count data as a proportion of the mean.\n",
    "\n",
    "    Returns:\n",
    "        AnnData: Modified AnnData object with perturbed counts.\n",
    "    \"\"\"\n",
    "    perturbed_adata = adata.copy()\n",
    "    X = perturbed_adata.X\n",
    "\n",
    "    if not np.issubdtype(X.dtype, np.integer):\n",
    "        raise ValueError(\"Count matrix must contain integer values.\")\n",
    "\n",
    "    for gene in target_genes:\n",
    "        if gene not in adata.var[gene_names].tolist():\n",
    "            print(f\"Gene {gene} not found in the dataset!\")\n",
    "            continue\n",
    "\n",
    "        gene_idx = perturbed_adata.var[gene_names].tolist().index(gene)\n",
    "        original_counts = X[:, gene_idx]\n",
    "\n",
    "        # Apply knock-up or knock-down\n",
    "        if knock_type == \"knock-down\":\n",
    "            perturbed_counts = (original_counts * (1 - fold_change)).astype(int)\n",
    "        elif knock_type == \"knock-up\":\n",
    "            perturbed_counts = (original_counts * (1 + fold_change)).astype(int)\n",
    "        else:\n",
    "            raise ValueError(\"knock_type must be 'knock-up' or 'knock-down'\")\n",
    "\n",
    "        # Add Poisson noise to simulate variability in count data\n",
    "        noise = np.random.poisson(lam=noise_level * np.maximum(perturbed_counts, 1))\n",
    "        perturbed_counts += noise\n",
    "\n",
    "        # Clip to ensure no negative values\n",
    "        perturbed_counts = np.clip(perturbed_counts, 0, None).astype(int)\n",
    "        X[:, gene_idx] = perturbed_counts\n",
    "\n",
    "    # Return the updated AnnData object\n",
    "    perturbed_adata.X = X\n",
    "    return perturbed_adata"
   ]
  },
  {
   "cell_type": "markdown",
   "id": "e1a9b19d-2a56-455e-9e2b-4eb7357d67b3",
   "metadata": {},
   "source": [
    "## 3) Testing"
   ]
  },
  {
   "cell_type": "code",
   "execution_count": 4,
   "id": "b33ed357-92f1-4436-bcbf-708d1c786cfb",
   "metadata": {},
   "outputs": [
    {
     "data": {
      "text/plain": [
       "AnnData object with n_obs × n_vars = 10 × 20\n",
       "    obs: 'samples'\n",
       "    var: 'gene_names'"
      ]
     },
     "execution_count": 4,
     "metadata": {},
     "output_type": "execute_result"
    }
   ],
   "source": [
    "adata = simulate_count_data(10, 20)\n",
    "adata"
   ]
  },
  {
   "cell_type": "code",
   "execution_count": 5,
   "id": "e892d7b1-949a-4b65-abce-5ee5aadaa64d",
   "metadata": {},
   "outputs": [
    {
     "data": {
      "text/plain": [
       "AnnData object with n_obs × n_vars = 10 × 20\n",
       "    obs: 'samples'\n",
       "    var: 'gene_names'"
      ]
     },
     "execution_count": 5,
     "metadata": {},
     "output_type": "execute_result"
    }
   ],
   "source": [
    "perturb_genes_counts(adata, \"gene_names\", [\"GENE2\", \"GENE4\"], \"knock-up\")"
   ]
  },
  {
   "cell_type": "code",
   "execution_count": 6,
   "id": "56159d7c-619e-4c43-a473-c79e99d73704",
   "metadata": {},
   "outputs": [
    {
     "name": "stdout",
     "output_type": "stream",
     "text": [
      "Original Expression for 'GENE5': [484 206 261 427 331]\n",
      "Perturbed Expression for 'GENE5': [268 112 141 232 180]\n"
     ]
    }
   ],
   "source": [
    "adata = simulate_count_data(5, 20)\n",
    "perturbed_adata = perturb_genes_counts(adata, \"gene_names\", [\"GENE5\"], knock_type=\"knock-down\", fold_change=0.5, noise_level=0.1)\n",
    "\n",
    "print(\"Original Expression for 'GENE5':\", adata[:, 'GENE5'].X.flatten())\n",
    "print(\"Perturbed Expression for 'GENE5':\", perturbed_adata[:, 'GENE5'].X.flatten())"
   ]
  },
  {
   "cell_type": "markdown",
   "id": "c5b2275c-24c3-41d4-9767-c7b8710ae3b0",
   "metadata": {},
   "source": [
    "Since we applied a knock-down effect, the perturbed count should be lower than the original."
   ]
  }
 ],
 "metadata": {
  "kernelspec": {
   "display_name": "Python 3 (ipykernel)",
   "language": "python",
   "name": "python3"
  },
  "language_info": {
   "codemirror_mode": {
    "name": "ipython",
    "version": 3
   },
   "file_extension": ".py",
   "mimetype": "text/x-python",
   "name": "python",
   "nbconvert_exporter": "python",
   "pygments_lexer": "ipython3",
   "version": "3.11.6"
  }
 },
 "nbformat": 4,
 "nbformat_minor": 5
}
