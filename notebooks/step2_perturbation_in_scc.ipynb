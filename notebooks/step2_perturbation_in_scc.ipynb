{
 "cells": [
  {
   "cell_type": "markdown",
   "id": "ab98718d-6ef8-4517-b8b5-7636c89d7741",
   "metadata": {},
   "source": [
    "# Apply Perturbations to Tumor-Specific Genes in SCC"
   ]
  },
  {
   "cell_type": "markdown",
   "id": "f435264e-abad-42b5-9f62-0302e851ac7d",
   "metadata": {},
   "source": [
    "**helical-ai:** Utilize the workflow to target previously-reported tumor-specific genes in squamous\n",
    "cell carcinoma (SCC) populations which contribute to pathology. Simulate\n",
    "perturbations and process the resulting data using the GeneFormer_V2_Cancer model\n",
    "to embed the perturbation effects into a biologically informed latent space.\n",
    "\n",
    "**Titouan:** This step took me a bit more time as the task seemed somewhat open-ended. I ultimately chose to import the count data from the SCC Dataset (PMC7391009), apply my in-silico perturbation method to tumor-related genes, and embed the perturbed and unperturbed results for further analysis in step 3. I also faced a few issues stemming from working on my laptop, mainly issues with memory and the slow embedding process."
   ]
  },
  {
   "cell_type": "markdown",
   "id": "107d0c85-2472-4f9c-b294-37e0f4985d98",
   "metadata": {},
   "source": [
    "## 1) Imports & seed"
   ]
  },
  {
   "cell_type": "code",
   "execution_count": 34,
   "id": "f2896c9b-a142-4ce6-869b-57a83b65efc6",
   "metadata": {},
   "outputs": [],
   "source": [
    "import numpy as np\n",
    "import gzip\n",
    "import requests\n",
    "import anndata as ad\n",
    "import pandas as pd\n",
    "import random\n",
    "import scanpy as sc\n",
    "from anndata import AnnData\n",
    "\n",
    "seed = 42\n",
    "np.random.seed(seed)"
   ]
  },
  {
   "cell_type": "markdown",
   "id": "6f205d1a-cf05-4833-95c2-652dddf72cca",
   "metadata": {},
   "source": [
    "## 2) Downloading data & processing data"
   ]
  },
  {
   "cell_type": "markdown",
   "id": "e2a2c319-d51e-4ba7-a7a5-f721b627f90a",
   "metadata": {},
   "source": [
    "I took the count data from the experiments on SCC from the PMC7391009 paper."
   ]
  },
  {
   "cell_type": "markdown",
   "id": "ff6aa6a2-5e0e-4ab7-99a8-971b8fb43df4",
   "metadata": {},
   "source": [
    "### 2.1) Downloading and extracting"
   ]
  },
  {
   "cell_type": "code",
   "execution_count": 35,
   "id": "50f172cc-484b-4e9a-860a-d5c0f25d4651",
   "metadata": {},
   "outputs": [
    {
     "name": "stdout",
     "output_type": "stream",
     "text": [
      "Downloading SCCcounts.txt.gz...\n",
      "Downloaded: SCCcounts.txt.gz\n",
      "Uncompressed: SCCcounts.txt\n"
     ]
    }
   ],
   "source": [
    "filename = \"SCCcounts.txt.gz\"\n",
    "url = \"https://ftp.ncbi.nlm.nih.gov/geo/series/GSE144nnn/GSE144236/suppl/GSE144236%5FcSCC%5Fcounts%2Etxt%2Egz\"\n",
    "\n",
    "print(f\"Downloading {filename}...\")\n",
    "response = requests.get(url)\n",
    "\n",
    "if response.status_code == 200:\n",
    "    with open(filename, \"wb\") as f:\n",
    "        f.write(response.content)\n",
    "    print(f\"Downloaded: {filename}\")\n",
    "else:\n",
    "    print(f\"Failed to download {filename}. HTTP status code: {response.status_code}\")\n",
    "\n",
    "# Uncompress\n",
    "filename_uncompressed = filename.split(\".\")[0] + \".txt\"\n",
    "with gzip.open(filename, 'rt') as infile:\n",
    "    with open(filename_uncompressed, 'w') as outfile:\n",
    "        for line in infile:\n",
    "            outfile.write(line)\n",
    "    print(f\"Uncompressed: {filename_uncompressed}\")"
   ]
  },
  {
   "cell_type": "markdown",
   "id": "15f8904b-2312-4cce-bdca-5087f3ebcad7",
   "metadata": {},
   "source": [
    "### 2.2) .txt to AnnData"
   ]
  },
  {
   "cell_type": "markdown",
   "id": "739163ab-52d5-49cd-b90c-326f99f00225",
   "metadata": {},
   "source": [
    "Since we downloaded raw count data (i.e., the number of reads for each gene in each sample), we now need to format this data into an AnnData object. I built a simple parser that reads a specified number of samples (columns) in a memory-efficient manner. It also selects random columns without repetition to avoid always using the first N samples."
   ]
  },
  {
   "cell_type": "code",
   "execution_count": 36,
   "id": "66682c38-7503-428f-9a38-36a4207ee3d5",
   "metadata": {},
   "outputs": [
    {
     "name": "stderr",
     "output_type": "stream",
     "text": [
      "/tmp/ipykernel_131/405662546.py:9: ResourceWarning: unclosed file <_io.BufferedReader name='SCCcounts.txt'>\n",
      "  total_lines = sum(1 for _ in open(filename_uncompressed, 'rb'))\n",
      "ResourceWarning: Enable tracemalloc to get the object allocation traceback\n"
     ]
    },
    {
     "name": "stdout",
     "output_type": "stream",
     "text": [
      "Processed 5000/32741 rows\n",
      "Processed 10000/32741 rows\n",
      "Processed 15000/32741 rows\n",
      "Processed 20000/32741 rows\n",
      "Processed 25000/32741 rows\n",
      "Processed 30000/32741 rows\n",
      "Processed 32738/32741 rows -> finished!\n"
     ]
    }
   ],
   "source": [
    "chunk_size = 5000\n",
    "N = 5000 # I don't have enough memory to load every sample\n",
    "processed_chunks = []\n",
    "gene_names = []\n",
    "obs_names = []\n",
    "patient = []\n",
    "tissue = []\n",
    "total = 0\n",
    "total_lines = sum(1 for _ in open(filename_uncompressed, 'rb'))\n",
    "\n",
    "with open(filename_uncompressed, \"r\") as file:\n",
    "    # Read the header (column/sample names)\n",
    "    header = file.readline().strip().split(\"\\t\")\n",
    "    n_samples = len(header)\n",
    "    samples_idx = np.random.choice(np.arange(0, n_samples), size=N, replace=False)\n",
    "    \n",
    "    patient = file.readline().strip().split(\"\\t\")\n",
    "    patient = [patient[i + 1] for i in samples_idx]\n",
    "    patient = list(map(int, patient))\n",
    "    \n",
    "    tissue = file.readline().strip().split(\"\\t\")\n",
    "    tissue = [tissue[i + 1] for i in samples_idx]\n",
    "    tissue = list(map(int, tissue))\n",
    "    \n",
    "    obs_names = [header[i] for i in samples_idx]\n",
    "\n",
    "    processed_chunks = []\n",
    "    gene_names = []\n",
    "    total = 0\n",
    "\n",
    "    while True:\n",
    "        # Read the next chunk of rows\n",
    "        chunk = []\n",
    "        chunk_gene_names = []\n",
    "        for _ in range(chunk_size):\n",
    "            line = file.readline()\n",
    "            if not line:\n",
    "                break\n",
    "            # Split the line into gene name and expression values\n",
    "            row = line.strip().split(\"\\t\")\n",
    "            chunk_gene_names.append(row[0])  # First value is the gene name\n",
    "            chunk.append([row[i + 1] for i in samples_idx])  # Remaining values are expression data\n",
    "            \n",
    "        # If no more data, break the loop\n",
    "        if not chunk:\n",
    "            break\n",
    "\n",
    "        chunk_array = np.array(chunk, dtype=int)\n",
    "\n",
    "        # Append chunk\n",
    "        processed_chunks.append(chunk_array)\n",
    "        gene_names.extend(chunk_gene_names)\n",
    "\n",
    "        total += len(chunk)\n",
    "        if total % 5000 == 0:\n",
    "            print(f\"Processed {total}/{total_lines} rows\")\n",
    "\n",
    "print(f\"Processed {total}/{total_lines} rows -> finished!\")"
   ]
  },
  {
   "cell_type": "code",
   "execution_count": 37,
   "id": "769ad94f-9399-4674-a180-5e7f5b740a70",
   "metadata": {},
   "outputs": [
    {
     "data": {
      "text/plain": [
       "AnnData object with n_obs × n_vars = 500 × 32738\n",
       "    obs: 'samples', 'patient', 'tissue'\n",
       "    var: 'gene_names'"
      ]
     },
     "execution_count": 37,
     "metadata": {},
     "output_type": "execute_result"
    }
   ],
   "source": [
    "# Combine all processed chunks into a single NumPy array\n",
    "final_data = np.vstack(processed_chunks)\n",
    "final_data = final_data.T\n",
    "\n",
    "# Create an AnnData object\n",
    "adata = AnnData(X=final_data)\n",
    "\n",
    "gene_names = [gene.replace('\"', '') for gene in gene_names]\n",
    "obs_names = [obs.replace('\"', '') for obs in obs_names]\n",
    "adata.var.index = gene_names\n",
    "adata.var[\"gene_names\"] = gene_names\n",
    "adata.obs[\"samples\"] = obs_names\n",
    "adata.obs[\"patient\"] = patient\n",
    "adata.obs[\"tissue\"] = tissue\n",
    "adata"
   ]
  },
  {
   "cell_type": "markdown",
   "id": "0bc99dd1-f165-4289-a67a-685cf91aac64",
   "metadata": {},
   "source": [
    "### 2.3) Looking at our AnnData object"
   ]
  },
  {
   "cell_type": "code",
   "execution_count": 38,
   "id": "b6308cd4-b89a-4d14-a539-75ce36ab6580",
   "metadata": {},
   "outputs": [
    {
     "data": {
      "text/plain": [
       "0       P5_Tumor_AAAGATGTCCTCCTAG\n",
       "1      P2_Normal_TGGGCGTTCCGTCATC\n",
       "2      P10_Tumor_CTTGGCTTCTCTAAGG\n",
       "3       P4_Tumor_CGAGAAGCATCCTAGA\n",
       "4      P9_Normal_ACTATCTTCGATCCCT\n",
       "                  ...            \n",
       "495     P9_Tumor_CCTTCGAGTTCTGTTT\n",
       "496    P9_Normal_CTGAAGTGTGCGCTTG\n",
       "497    P9_Normal_GATCGCGCAGTAAGAT\n",
       "498     P4_Tumor_CTCTGGTCAGGATTGG\n",
       "499     P5_Tumor_ATAGACCTCGGAAACG\n",
       "Name: samples, Length: 500, dtype: object"
      ]
     },
     "execution_count": 38,
     "metadata": {},
     "output_type": "execute_result"
    }
   ],
   "source": [
    "adata.obs['samples']"
   ]
  },
  {
   "cell_type": "code",
   "execution_count": 39,
   "id": "544299b2-84d6-4f4e-96db-c40bcf61688c",
   "metadata": {},
   "outputs": [
    {
     "data": {
      "text/plain": [
       "0      1\n",
       "1      0\n",
       "2      1\n",
       "3      1\n",
       "4      0\n",
       "      ..\n",
       "495    1\n",
       "496    0\n",
       "497    0\n",
       "498    1\n",
       "499    1\n",
       "Name: tissue, Length: 500, dtype: int64"
      ]
     },
     "execution_count": 39,
     "metadata": {},
     "output_type": "execute_result"
    }
   ],
   "source": [
    "adata.obs['tissue']"
   ]
  },
  {
   "cell_type": "markdown",
   "id": "b6fd3ed1-2878-4034-8d30-24a0f061b420",
   "metadata": {},
   "source": [
    "## 3) Simulating perturbations"
   ]
  },
  {
   "cell_type": "markdown",
   "id": "03ee72c1-bffd-48f7-a86b-d81e0a01867b",
   "metadata": {},
   "source": [
    "### 3.1) Importing step 1"
   ]
  },
  {
   "cell_type": "code",
   "execution_count": 40,
   "id": "b75a95eb-5c65-434f-80a8-452750d87f63",
   "metadata": {},
   "outputs": [],
   "source": [
    "import nbimporter # I don't recommend using this module, this is used only to keep everything in notebooks\n",
    "from step1_insilico_perturbation import perturb_genes_counts"
   ]
  },
  {
   "cell_type": "markdown",
   "id": "7edef65f-8fa8-4f8e-92f5-6f9d9e4e62bc",
   "metadata": {},
   "source": [
    "### 3.2) Identifying genes of interest"
   ]
  },
  {
   "cell_type": "markdown",
   "id": "5a61ad9d-6dd2-4340-a5af-89c9709eb908",
   "metadata": {},
   "source": [
    "I couldn't find the tumor specific genes in the paper so I decided to just extract them myself from the raw counts data using differential expression analysis"
   ]
  },
  {
   "cell_type": "code",
   "execution_count": 41,
   "id": "d1da27d2-552f-47e2-bf75-fee5790ff0cd",
   "metadata": {},
   "outputs": [],
   "source": [
    "adata_pert = adata.copy() # Making a copy because we still need the raw counts for GeneFormer"
   ]
  },
  {
   "cell_type": "code",
   "execution_count": 42,
   "id": "679dcc9f-d056-4937-b6e7-1aef1cea482f",
   "metadata": {},
   "outputs": [
    {
     "data": {
      "text/plain": [
       "Index(['RP11-34P13.7', 'AL627309.1', 'AP006222.2', 'RP4-669L17.10',\n",
       "       'RP11-206L10.3', 'RP11-206L10.2', 'RP11-206L10.9', 'FAM87B',\n",
       "       'LINC00115', 'FAM41C',\n",
       "       ...\n",
       "       'BX072566.1', 'KIR2DL2', 'KIR3DL2.1', 'AL590523.1', 'CT476828.1',\n",
       "       'AC145205.1', 'BAGE5', 'CU459201.1', 'AC002321.2', 'AC002321.1'],\n",
       "      dtype='object', length=32738)"
      ]
     },
     "execution_count": 42,
     "metadata": {},
     "output_type": "execute_result"
    }
   ],
   "source": [
    "adata_pert.var_names"
   ]
  },
  {
   "cell_type": "code",
   "execution_count": 43,
   "id": "3462a95d-bc76-49b8-9dac-c7c16defcfde",
   "metadata": {},
   "outputs": [
    {
     "data": {
      "text/plain": [
       "AnnData object with n_obs × n_vars = 500 × 15226\n",
       "    obs: 'samples', 'patient', 'tissue'\n",
       "    var: 'gene_names', 'n_cells'\n",
       "    uns: 'log1p'"
      ]
     },
     "execution_count": 43,
     "metadata": {},
     "output_type": "execute_result"
    }
   ],
   "source": [
    "# Filter out genes with low counts across spots\n",
    "sc.pp.filter_genes(adata_pert, min_cells=3)\n",
    "\n",
    "# Normalize the data (Scanpy will handle size factor normalization)\n",
    "sc.pp.normalize_total(adata_pert, target_sum=1e4)\n",
    "\n",
    "# Log-transform the data\n",
    "sc.pp.log1p(adata_pert)\n",
    "adata_pert"
   ]
  },
  {
   "cell_type": "code",
   "execution_count": 44,
   "id": "962fddab-bf29-487b-b6f4-0ece13291c9f",
   "metadata": {},
   "outputs": [
    {
     "data": {
      "text/plain": [
       "AnnData object with n_obs × n_vars = 500 × 15226\n",
       "    obs: 'samples', 'patient', 'tissue'\n",
       "    var: 'gene_names', 'n_cells'\n",
       "    uns: 'log1p'"
      ]
     },
     "execution_count": 44,
     "metadata": {},
     "output_type": "execute_result"
    }
   ],
   "source": [
    "adata_pert.obs['tissue'] = pd.Categorical(adata_pert.obs['tissue'], categories=[0, 1])\n",
    "\n",
    "# Map the integers to meaningful labels (e.g., 'healthy' and 'tumor')\n",
    "category_mapping = {0: 'healthy', 1: 'tumor'}\n",
    "adata_pert.obs['tissue'] = adata_pert.obs['tissue'].map(category_mapping)\n",
    "\n",
    "# Convert back to categorical with labeled categories\n",
    "adata_pert.obs['tissue'] = pd.Categorical(adata_pert.obs['tissue'], categories=['healthy', 'tumor'])\n",
    "adata_pert"
   ]
  },
  {
   "cell_type": "code",
   "execution_count": 45,
   "id": "9bc233d3-c4a9-40c7-8b29-d4e092dd1c76",
   "metadata": {},
   "outputs": [],
   "source": [
    "sc.tl.rank_genes_groups(adata_pert, groupby='tissue', method='t-test')"
   ]
  },
  {
   "cell_type": "code",
   "execution_count": 46,
   "id": "171d8f16-5165-46db-b1d7-21f7c90c9102",
   "metadata": {},
   "outputs": [
    {
     "name": "stdout",
     "output_type": "stream",
     "text": [
      "        Group     Gene  Log Fold Change       P-Value Expression Status\n",
      "0     healthy     EGR1         2.052995  1.279296e-27    over-expressed\n",
      "1     healthy    CCL27         3.336983  2.668639e-25    over-expressed\n",
      "2     healthy    KRT10         2.776552  6.579038e-26    over-expressed\n",
      "3     healthy     SIK1         2.299069  5.964742e-24    over-expressed\n",
      "4     healthy  ZFP36L2         1.714001  3.487831e-24    over-expressed\n",
      "...       ...      ...              ...           ...               ...\n",
      "1995    tumor    COPB1         0.703079  1.931079e-03    over-expressed\n",
      "1996    tumor     TTC1         0.621587  1.933788e-03    over-expressed\n",
      "1997    tumor      ATM         1.119227  1.951042e-03    over-expressed\n",
      "1998    tumor  LDLRAD4         1.586843  1.976501e-03    over-expressed\n",
      "1999    tumor   PI4K2A         1.579913  1.995449e-03    over-expressed\n",
      "\n",
      "[2000 rows x 5 columns]\n"
     ]
    }
   ],
   "source": [
    "# Perform differential expression analysis using t-test\n",
    "sc.tl.rank_genes_groups(adata_pert, groupby='tissue', method='t-test')\n",
    "\n",
    "# Extract the results for the top N genes for each group\n",
    "top_genes = adata_pert.uns['rank_genes_groups']['names']  # Get the gene names for all groups\n",
    "\n",
    "N = 1000 # top 1000 genes (chosen arbitrarily)\n",
    "\n",
    "# Extract the top N genes from each group\n",
    "top_genes_N = {group: top_genes[group][:N] for group in top_genes.dtype.names}\n",
    "\n",
    "# Extract the log fold change for each gene\n",
    "log_fold_changes = adata_pert.uns['rank_genes_groups']['logfoldchanges']\n",
    "\n",
    "# Extract the p-values for the genes\n",
    "p_values = adata_pert.uns['rank_genes_groups']['pvals']\n",
    "\n",
    "# Determine whether each gene is over- or under-expressed based on log-fold change\n",
    "# log-fold change = log2(expressionA/expressionB) so log2 > 0: over-expressed and log2 < 0: underexpressed\n",
    "# this ends up being useless because they end up being all over-expressed due to how scipy selects the genes\n",
    "expression_status = {group: ['over-expressed' if fc > 0 else 'under-expressed' for fc in log_fold_changes[group][:N]] \n",
    "                     for group in log_fold_changes.dtype.names}\n",
    "\n",
    "# Combine the gene names, log fold change, p-values, and expression status into a dataframe\n",
    "top_genes_info = []\n",
    "for group in top_genes_N:\n",
    "    for gene, fc, p_val, status in zip(top_genes_N[group], log_fold_changes[group][:N], p_values[group][:N], expression_status[group]):\n",
    "        top_genes_info.append({\n",
    "            'Group': group,\n",
    "            'Gene': gene,\n",
    "            'Log Fold Change': fc,\n",
    "            'P-Value': p_val,\n",
    "            'Expression Status': status\n",
    "        })\n",
    "\n",
    "top_genes_df = pd.DataFrame(top_genes_info)\n",
    "\n",
    "# Show the result\n",
    "print(top_genes_df)"
   ]
  },
  {
   "cell_type": "code",
   "execution_count": 47,
   "id": "0cd36420-5b4e-4ad2-bbd8-1c7304c3ae8b",
   "metadata": {},
   "outputs": [
    {
     "name": "stdout",
     "output_type": "stream",
     "text": [
      "WARNING: dendrogram data not found (using key=dendrogram_tissue). Running `sc.tl.dendrogram` with default parameters. For fine tuning it is recommended to run `sc.tl.dendrogram` independently.\n"
     ]
    },
    {
     "name": "stderr",
     "output_type": "stream",
     "text": [
      "/opt/conda/lib/python3.11/site-packages/scanpy/tools/_utils.py:41: UserWarning: You’re trying to run this on 15226 dimensions of `.X`, if you really want this, set `use_rep='X'`.\n",
      "         Falling back to preprocessing with `sc.pp.pca` and default params.\n",
      "  warnings.warn(\n"
     ]
    },
    {
     "data": {
      "image/png": "[encoded data removed]",
      "text/plain": [
       "<Figure size 720x600 with 5 Axes>"
      ]
     },
     "metadata": {},
     "output_type": "display_data"
    }
   ],
   "source": [
    "sc.pl.rank_genes_groups_heatmap(adata_pert, n_genes=10, groupby='tissue', show=True)"
   ]
  },
  {
   "cell_type": "code",
   "execution_count": 48,
   "id": "b84931ba-9b54-476f-9f62-4b8ddf9d8cfa",
   "metadata": {},
   "outputs": [
    {
     "name": "stdout",
     "output_type": "stream",
     "text": [
      "['EGR1' 'CCL27' 'KRT10' 'SIK1' 'ZFP36L2' 'KRT1' 'DMKN' 'FOSB' 'RPS8'\n",
      " 'KLF4' 'RPL31' 'NRARP' 'RORA' 'MYC' 'TPPP3' 'KLF5' 'ZFP36L1' 'ZFP36'\n",
      " 'CD55' 'LMNA' 'RPLP1' 'IRF6' 'SEPP1' 'DSP' 'SLC38A2' 'RPL36A' 'ID1'\n",
      " 'PKP1' 'JUNB' 'TRIM29' 'JUP' 'RPS25' 'CDHR1' 'GATA3' 'KLK11' 'RPL26'\n",
      " 'NR4A1' 'DSC3' 'NEAT1' 'LGALS7B' 'CAPNS2' 'RPL37A' 'ATF3' 'DSG1' 'PALMD'\n",
      " 'LGALS7' 'EGFR' 'RPLP2' 'TOB1' 'GATM' 'FGFR3' 'RPS4X' 'LDLR' 'MT1X'\n",
      " 'RPS12' 'EPHA2' 'ZC3H12A' 'NFIB' 'RPS6' 'GSTM3' 'FOS' 'DAPL1' 'RPS29'\n",
      " 'TMEM45A' 'RPL9' 'RPL34' 'RPL38' 'LY6D' 'RPL37' 'APOE' 'HOPX' 'RPS11'\n",
      " 'LYPD3' 'PER1' 'RPL13' 'EIF1' 'PERP' 'PLK2' 'TNFRSF19' 'RPS18' 'EZR'\n",
      " 'KCNK7' 'H3F3B' 'KRTDAP' 'AQP3' 'NFIX' 'FAM83G' 'SNHG8' 'IRF2BP2'\n",
      " 'BAIAP2' 'RPS21' 'EMP1' 'RPS13' 'FGFBP1' 'RPS27' 'FBXW7' 'MT-ND3' 'CYR61'\n",
      " 'MIDN' 'RPL36']\n",
      "['TMSB10' 'ARPC1B' 'BST2' 'CTSB' 'ISG15' 'LAP3' 'PFN1' 'TYMP' 'CFL1'\n",
      " 'ATP6V0E1' 'FTL' 'PRELID1' 'ACTB' 'LGALS1' 'LY6E' 'SAT1' 'TPM3' 'CTSC'\n",
      " 'C1QB' 'MYL12A' 'PSME2' 'CAP1' 'RHOA' 'COTL1' 'GSTO1' 'FAM49B' 'CYBA'\n",
      " 'ARL6IP5' 'ARPC2' 'ANXA5' 'FTH1' 'CD63' 'HSPA8' 'GPX1' 'C1QC' 'PDIA3'\n",
      " 'LYZ' 'PDIA6' 'CD74' 'WARS' 'B2M' 'PLSCR1' 'HLA-C' 'HLA-DRA' 'C1QA'\n",
      " 'AP2S1' 'MX1' 'SUB1' 'CD14' 'TPI1' 'PGK1' 'GBP1' 'STAT1' 'HLA-DPA1'\n",
      " 'LITAF' 'ARPC3' 'LCP1' 'ARPC5' 'CTSZ' 'PKM' 'RAB31' 'IGSF6' 'CAPNS1'\n",
      " 'SERPINB1' 'CLEC7A' 'IFI6' 'SEPT7' 'TUBB' 'UBE2L6' 'CTSS' 'FCER1G'\n",
      " 'TYROBP' 'PPIB' 'TMEM176A' 'SAMD9' 'GJB2' 'C4orf48' 'GRN' 'HN1'\n",
      " 'HLA-DPB1' 'SLC16A3' 'FKBP1A' 'EIF4EBP1' 'HCK' 'PSAP' 'TMEM176B' 'EPSTI1'\n",
      " 'GAPDH' 'RGS10' 'TMEM230' 'C15orf48' 'SEC61G' 'CYBB' 'IDO1' 'PPP1R18'\n",
      " 'MYL6' 'LCP2' 'NPC2' 'PSMA4' 'SAMD9L']\n"
     ]
    }
   ],
   "source": [
    "healthy_genes = top_genes_N.get('healthy', [])\n",
    "print(healthy_genes[:100])\n",
    "tumor_genes = top_genes_N.get('tumor', [])\n",
    "print(tumor_genes[:100])"
   ]
  },
  {
   "cell_type": "code",
   "execution_count": 49,
   "id": "6ed7660c-5a54-475f-8bb6-3b177496b0e6",
   "metadata": {},
   "outputs": [],
   "source": [
    "del adata_pert # for memory"
   ]
  },
  {
   "cell_type": "markdown",
   "id": "67e89455-04e3-4294-be99-38e07e4f506b",
   "metadata": {},
   "source": [
    "### 3.3) Splitting the data"
   ]
  },
  {
   "cell_type": "code",
   "execution_count": 50,
   "id": "45961856-5bd1-4587-b9bb-851635c0fbe0",
   "metadata": {},
   "outputs": [
    {
     "data": {
      "text/plain": [
       "AnnData object with n_obs × n_vars = 261 × 32738\n",
       "    obs: 'samples', 'patient', 'tissue'\n",
       "    var: 'gene_names'"
      ]
     },
     "execution_count": 50,
     "metadata": {},
     "output_type": "execute_result"
    }
   ],
   "source": [
    "adata_tumor = adata[adata.obs['tissue'] == 1].copy()\n",
    "adata_tumor"
   ]
  },
  {
   "cell_type": "code",
   "execution_count": 51,
   "id": "f34d451e-fc63-45dc-9362-99651f395513",
   "metadata": {},
   "outputs": [
    {
     "data": {
      "text/plain": [
       "AnnData object with n_obs × n_vars = 239 × 32738\n",
       "    obs: 'samples', 'patient', 'tissue'\n",
       "    var: 'gene_names'"
      ]
     },
     "execution_count": 51,
     "metadata": {},
     "output_type": "execute_result"
    }
   ],
   "source": [
    "adata_healthy = adata[adata.obs['tissue'] == 0].copy()\n",
    "adata_healthy"
   ]
  },
  {
   "cell_type": "code",
   "execution_count": 52,
   "id": "7fe9db16-156c-4480-a715-1e2a9d774787",
   "metadata": {},
   "outputs": [],
   "source": [
    "del adata"
   ]
  },
  {
   "cell_type": "markdown",
   "id": "c4887de4-98bb-4b3f-8aa1-eec3cc3ceea6",
   "metadata": {},
   "source": [
    "### 3.4) Simulating knock-up of tumor-specific genes and knock-down of healthy genes in healthy cells"
   ]
  },
  {
   "cell_type": "markdown",
   "id": "92d428bd-22cd-4ee1-9767-05c29f650e7f",
   "metadata": {},
   "source": [
    "Let's see if we can 'create' tumor cells from healthy cells by only touching the genes we believe contribute to the pathology. We'll later see how this looks in the embeddings."
   ]
  },
  {
   "cell_type": "code",
   "execution_count": 56,
   "id": "4582df84-c4a4-4d01-800c-3c3ccd88eeee",
   "metadata": {},
   "outputs": [],
   "source": [
    "fold_change = 0.9"
   ]
  },
  {
   "cell_type": "code",
   "execution_count": 54,
   "id": "5b2317cd-4b6b-4499-b440-6d797ad74283",
   "metadata": {},
   "outputs": [
    {
     "data": {
      "text/plain": [
       "AnnData object with n_obs × n_vars = 239 × 32738\n",
       "    obs: 'samples', 'patient', 'tissue'\n",
       "    var: 'gene_names'"
      ]
     },
     "execution_count": 54,
     "metadata": {},
     "output_type": "execute_result"
    }
   ],
   "source": [
    "perturbed_healthy_adata = perturb_genes_counts(adata_healthy.copy(), \"gene_names\", tumor_genes, \"knock-up\", fold_change)\n",
    "perturbed_healthy_adata = perturb_genes_counts(adata_healthy.copy(), \"gene_names\", healthy_genes, \"knock-down\", fold_change)\n",
    "perturbed_healthy_adata.obs['tissue'] = 2 # Set a tag for latter (0: healthy, 1: tumor, 2: healthy_knock-up, 3: tumor_knock-down)\n",
    "perturbed_healthy_adata.obs.index = perturbed_healthy_adata.obs.index + \"_MODIFIED\"\n",
    "perturbed_healthy_adata"
   ]
  },
  {
   "cell_type": "markdown",
   "id": "20e88e5b-39c4-40ae-9f37-a5bc34984481",
   "metadata": {},
   "source": [
    "### 3.5) Simulating knock-down of tumor-specific genes in cancerous cells"
   ]
  },
  {
   "cell_type": "markdown",
   "id": "7599e751-3b69-4942-b16a-46a36aa7750f",
   "metadata": {},
   "source": [
    "See above"
   ]
  },
  {
   "cell_type": "code",
   "execution_count": 55,
   "id": "81233172-e618-4446-a007-6225146907c8",
   "metadata": {},
   "outputs": [
    {
     "data": {
      "text/plain": [
       "AnnData object with n_obs × n_vars = 261 × 32738\n",
       "    obs: 'samples', 'patient', 'tissue'\n",
       "    var: 'gene_names'"
      ]
     },
     "execution_count": 55,
     "metadata": {},
     "output_type": "execute_result"
    }
   ],
   "source": [
    "perturbed_tumor_adata = perturb_genes_counts(adata_tumor.copy(), \"gene_names\", healthy_genes, \"knock-up\", fold_change)\n",
    "perturbed_tumor_adata = perturb_genes_counts(adata_tumor.copy(), \"gene_names\", tumor_genes, \"knock-down\", fold_change)\n",
    "perturbed_tumor_adata.obs['tissue'] = 3 # Set a tag for latter (0: healthy, 1: tumor, 2: healthy_knock-up, 3: tumor_knock-down)\n",
    "perturbed_tumor_adata.obs.index = perturbed_tumor_adata.obs.index + \"_MODIFIED\"\n",
    "perturbed_tumor_adata"
   ]
  },
  {
   "cell_type": "markdown",
   "id": "1e4b19b4-7a1c-4b8b-95e1-359a673e05b0",
   "metadata": {},
   "source": [
    "### 3.6) Putting it all back together"
   ]
  },
  {
   "cell_type": "code",
   "execution_count": 57,
   "id": "9d645a6c-dd96-4633-8bd1-e94767bd8048",
   "metadata": {},
   "outputs": [
    {
     "data": {
      "text/plain": [
       "AnnData object with n_obs × n_vars = 1000 × 32738\n",
       "    obs: 'samples', 'patient', 'tissue'\n",
       "    var: 'gene_names'"
      ]
     },
     "execution_count": 57,
     "metadata": {},
     "output_type": "execute_result"
    }
   ],
   "source": [
    "adata_combined = ad.concat([adata_tumor, adata_healthy, perturbed_healthy_adata, perturbed_tumor_adata], join='outer', merge='same') \n",
    "adata_combined"
   ]
  },
  {
   "cell_type": "code",
   "execution_count": 58,
   "id": "ad4369ae-b2d4-4798-89e4-5befcabad59e",
   "metadata": {},
   "outputs": [],
   "source": [
    "del adata_tumor\n",
    "del adata_healthy\n",
    "del perturbed_healthy_adata\n",
    "del perturbed_tumor_adata"
   ]
  },
  {
   "cell_type": "markdown",
   "id": "5d8eec11-c00f-49ae-8112-ebddadf85745",
   "metadata": {},
   "source": [
    "## 4) Checkpoint"
   ]
  },
  {
   "cell_type": "code",
   "execution_count": 59,
   "id": "4711e54e-1edb-4e48-b40a-fa2990e5e961",
   "metadata": {},
   "outputs": [
    {
     "name": "stderr",
     "output_type": "stream",
     "text": [
      "... storing 'samples' as categorical\n"
     ]
    },
    {
     "name": "stdout",
     "output_type": "stream",
     "text": [
      "AnnData object successfully saved to checkpoint.h5ad\n"
     ]
    }
   ],
   "source": [
    "def save_anndata(adata: AnnData, file_path: str):\n",
    "    \"\"\"\n",
    "    Saves an AnnData object to a specified file path.\n",
    "    \n",
    "    Args:\n",
    "        adata (AnnData): The AnnData object to save.\n",
    "        file_path (str): Path to save the `.h5ad` file.\n",
    "    \"\"\"\n",
    "    try:\n",
    "        adata.write(file_path)\n",
    "        print(f\"AnnData object successfully saved to {file_path}\")\n",
    "    except Exception as e:\n",
    "        print(f\"Error saving AnnData object: {e}\")\n",
    "\n",
    "file_path = \"checkpoint.h5ad\"\n",
    "save_anndata(adata_combined, file_path)"
   ]
  },
  {
   "cell_type": "markdown",
   "id": "85fa88a6-5d77-4557-a6d1-429beba26a59",
   "metadata": {},
   "source": [
    "## 5) Embedding"
   ]
  },
  {
   "cell_type": "markdown",
   "id": "92054e0a-2f2f-4ab8-98ae-2b6d95b23fe0",
   "metadata": {},
   "source": [
    "### 5.1) Imports"
   ]
  },
  {
   "cell_type": "code",
   "execution_count": 60,
   "id": "e96d088c-77d1-40f3-b24d-010c1a881ba4",
   "metadata": {},
   "outputs": [
    {
     "name": "stderr",
     "output_type": "stream",
     "text": [
      "INFO:helical.utils.downloader:File: '/home/jovyan/.cache/helical/models/geneformer/v1/gene_median_dictionary.pkl' exists already. File is not overwritten and nothing is downloaded.\n",
      "INFO:helical.utils.downloader:File saved to: '/home/jovyan/.cache/helical/models/geneformer/v1/gene_median_dictionary.pkl'\n",
      "INFO:helical.utils.downloader:File: '/home/jovyan/.cache/helical/models/geneformer/v1/token_dictionary.pkl' exists already. File is not overwritten and nothing is downloaded.\n",
      "INFO:helical.utils.downloader:File saved to: '/home/jovyan/.cache/helical/models/geneformer/v1/token_dictionary.pkl'\n",
      "INFO:helical.utils.downloader:File: '/home/jovyan/.cache/helical/models/geneformer/v1/ensembl_mapping_dict.pkl' exists already. File is not overwritten and nothing is downloaded.\n",
      "INFO:helical.utils.downloader:File saved to: '/home/jovyan/.cache/helical/models/geneformer/v1/ensembl_mapping_dict.pkl'\n",
      "INFO:helical.utils.downloader:File: '/home/jovyan/.cache/helical/models/geneformer/v1/gf-12L-30M-i2048/config.json' exists already. File is not overwritten and nothing is downloaded.\n",
      "INFO:helical.utils.downloader:File saved to: '/home/jovyan/.cache/helical/models/geneformer/v1/gf-12L-30M-i2048/config.json'\n",
      "INFO:helical.utils.downloader:File: '/home/jovyan/.cache/helical/models/geneformer/v1/gf-12L-30M-i2048/training_args.bin' exists already. File is not overwritten and nothing is downloaded.\n",
      "INFO:helical.utils.downloader:File saved to: '/home/jovyan/.cache/helical/models/geneformer/v1/gf-12L-30M-i2048/training_args.bin'\n",
      "INFO:helical.utils.downloader:File: '/home/jovyan/.cache/helical/models/geneformer/v1/gf-12L-30M-i2048/pytorch_model.bin' exists already. File is not overwritten and nothing is downloaded.\n",
      "INFO:helical.utils.downloader:File saved to: '/home/jovyan/.cache/helical/models/geneformer/v1/gf-12L-30M-i2048/pytorch_model.bin'\n",
      "INFO:helical.models.geneformer.model:Model finished initializing.\n"
     ]
    }
   ],
   "source": [
    "from helical import Geneformer, GeneformerConfig\n",
    "import torch\n",
    "\n",
    "device = \"cuda\" if torch.cuda.is_available() else \"cpu\"\n",
    "model_config = GeneformerConfig(batch_size=10, device=device)\n",
    "geneformer = Geneformer(configurer=model_config)"
   ]
  },
  {
   "cell_type": "markdown",
   "id": "1bcab56e-2c11-4972-934c-b6b7695a2f79",
   "metadata": {},
   "source": [
    "### 5.2) Conversion I need to do to make everything work"
   ]
  },
  {
   "cell_type": "code",
   "execution_count": 61,
   "id": "9cf957a9-a968-40dd-b347-f949da837163",
   "metadata": {},
   "outputs": [],
   "source": [
    "import scipy.sparse as sp\n",
    "\n",
    "# Convert adata.X to a sparse CSR matrix with dtype=float64\n",
    "if not sp.issparse(adata_combined.X):  # Check if it's already sparse\n",
    "    adata_combined.X = sp.csr_matrix(adata_combined.X, dtype=np.float64)"
   ]
  },
  {
   "cell_type": "markdown",
   "id": "75d778c8-7b2f-498b-bee4-59dee07e4363",
   "metadata": {},
   "source": [
    "### 5.3) Processing data & Embedding"
   ]
  },
  {
   "cell_type": "code",
   "execution_count": 62,
   "id": "cac67c2b-6a8c-41bd-bac6-c6c5fb22a687",
   "metadata": {},
   "outputs": [
    {
     "name": "stderr",
     "output_type": "stream",
     "text": [
      "INFO:pyensembl.sequence_data:Loaded sequence dictionary from /home/jovyan/.cache/pyensembl/GRCh38/ensembl110/Homo_sapiens.GRCh38.cdna.all.fa.gz.pickle\n",
      "INFO:pyensembl.sequence_data:Loaded sequence dictionary from /home/jovyan/.cache/pyensembl/GRCh38/ensembl110/Homo_sapiens.GRCh38.ncrna.fa.gz.pickle\n",
      "INFO:pyensembl.sequence_data:Loaded sequence dictionary from /home/jovyan/.cache/pyensembl/GRCh38/ensembl110/Homo_sapiens.GRCh38.pep.all.fa.gz.pickle\n",
      "INFO:helical.utils.mapping:Mapped 19313 genes to Ensembl IDs from a total of 32738 genes.\n",
      "INFO:helical.models.geneformer.geneformer_tokenizer:AnnData object with n_obs × n_vars = 1000 × 32738\n",
      "    obs: 'samples', 'patient', 'tissue', 'total_counts'\n",
      "    var: 'gene_names', 'ensembl_id', 'gene_ids_collapsed' has no column attribute 'filter_pass'; tokenizing all cells.\n",
      "INFO:helical.models.geneformer.geneformer_tokenizer:Creating dataset.\n"
     ]
    },
    {
     "data": {
      "application/vnd.jupyter.widget-view+json": {
       "model_id": "c9193f205dff4ff0a25ffa9045e0ee55",
       "version_major": 2,
       "version_minor": 0
      },
      "text/plain": [
       "Map:   0%|          | 0/1000 [00:00<?, ? examples/s]"
      ]
     },
     "metadata": {},
     "output_type": "display_data"
    },
    {
     "data": {
      "text/plain": [
       "Dataset({\n",
       "    features: ['input_ids', 'length'],\n",
       "    num_rows: 1000\n",
       "})"
      ]
     },
     "execution_count": 62,
     "metadata": {},
     "output_type": "execute_result"
    }
   ],
   "source": [
    "dataset = geneformer.process_data(adata_combined, gene_names=\"gene_names\") # Maybe seperate MODIFIED from the rest\n",
    "dataset"
   ]
  },
  {
   "cell_type": "code",
   "execution_count": 63,
   "id": "64f4b1d8-18a3-4295-8951-4644be26f773",
   "metadata": {},
   "outputs": [
    {
     "data": {
      "text/plain": [
       "Dataset({\n",
       "    features: ['input_ids', 'length', 'tissue', 'patient'],\n",
       "    num_rows: 1000\n",
       "})"
      ]
     },
     "execution_count": 63,
     "metadata": {},
     "output_type": "execute_result"
    }
   ],
   "source": [
    "dataset = dataset.add_column(\"tissue\", adata_combined.obs['tissue'].tolist())\n",
    "dataset = dataset.add_column(\"patient\", adata_combined.obs['patient'].tolist())\n",
    "dataset"
   ]
  },
  {
   "cell_type": "code",
   "execution_count": 64,
   "id": "d534e63c-6ca5-462d-90d7-85b9dcc3cd5a",
   "metadata": {},
   "outputs": [
    {
     "name": "stderr",
     "output_type": "stream",
     "text": [
      "INFO:helical.models.geneformer.model:Inference started:\n"
     ]
    },
    {
     "data": {
      "application/vnd.jupyter.widget-view+json": {
       "model_id": "46e7e84fbbc94e8db23c19f4dc211357",
       "version_major": 2,
       "version_minor": 0
      },
      "text/plain": [
       "  0%|          | 0/100 [00:00<?, ?it/s]"
      ]
     },
     "metadata": {},
     "output_type": "display_data"
    },
    {
     "data": {
      "text/plain": [
       "array([[-0.00966178,  0.00028845,  0.05551311, ..., -0.03750867,\n",
       "         0.02094728, -0.0534763 ],\n",
       "       [-0.00188298, -0.00192133,  0.07942488, ..., -0.00246671,\n",
       "        -0.00121853, -0.03497089],\n",
       "       [-0.01936999,  0.01553321,  0.07892258, ..., -0.01176252,\n",
       "         0.01961049, -0.0402434 ],\n",
       "       ...,\n",
       "       [-0.02025982,  0.0017828 ,  0.0498505 , ..., -0.01916908,\n",
       "         0.0106148 , -0.0446007 ],\n",
       "       [ 0.00053532,  0.01570459,  0.08112805, ..., -0.01300089,\n",
       "        -0.01150124, -0.03836003],\n",
       "       [-0.04217244, -0.00798907,  0.06208811, ..., -0.01174584,\n",
       "        -0.02724068, -0.02172413]], dtype=float32)"
      ]
     },
     "execution_count": 64,
     "metadata": {},
     "output_type": "execute_result"
    }
   ],
   "source": [
    "N = 1000  # Number of rows to sample because I don't have enough time to embedded them all\n",
    "sampled_dataset = dataset.shuffle(seed=seed).select(range(N))\n",
    "embeddings = geneformer.get_embeddings(sampled_dataset)\n",
    "embeddings"
   ]
  },
  {
   "cell_type": "markdown",
   "id": "a6777bbe-acc9-46e0-86b4-6128e4d1be7b",
   "metadata": {},
   "source": [
    "## 6) Saving embeddings to a file"
   ]
  },
  {
   "cell_type": "code",
   "execution_count": 65,
   "id": "9e27981f-64d0-4c2c-8531-4805b1c91dcc",
   "metadata": {},
   "outputs": [],
   "source": [
    "np.save(\"embeddings_full.npy\", embeddings)"
   ]
  },
  {
   "cell_type": "code",
   "execution_count": 66,
   "id": "a63a4674-9172-40fd-88a1-89d2b26eb76d",
   "metadata": {},
   "outputs": [
    {
     "data": {
      "text/html": [
       "<div>\n",
       "<style scoped>\n",
       "    .dataframe tbody tr th:only-of-type {\n",
       "        vertical-align: middle;\n",
       "    }\n",
       "\n",
       "    .dataframe tbody tr th {\n",
       "        vertical-align: top;\n",
       "    }\n",
       "\n",
       "    .dataframe thead th {\n",
       "        text-align: right;\n",
       "    }\n",
       "</style>\n",
       "<table border=\"1\" class=\"dataframe\">\n",
       "  <thead>\n",
       "    <tr style=\"text-align: right;\">\n",
       "      <th></th>\n",
       "      <th>tissue</th>\n",
       "    </tr>\n",
       "  </thead>\n",
       "  <tbody>\n",
       "    <tr>\n",
       "      <th>0</th>\n",
       "      <td>3</td>\n",
       "    </tr>\n",
       "    <tr>\n",
       "      <th>1</th>\n",
       "      <td>3</td>\n",
       "    </tr>\n",
       "    <tr>\n",
       "      <th>2</th>\n",
       "      <td>3</td>\n",
       "    </tr>\n",
       "    <tr>\n",
       "      <th>3</th>\n",
       "      <td>3</td>\n",
       "    </tr>\n",
       "    <tr>\n",
       "      <th>4</th>\n",
       "      <td>1</td>\n",
       "    </tr>\n",
       "    <tr>\n",
       "      <th>...</th>\n",
       "      <td>...</td>\n",
       "    </tr>\n",
       "    <tr>\n",
       "      <th>995</th>\n",
       "      <td>2</td>\n",
       "    </tr>\n",
       "    <tr>\n",
       "      <th>996</th>\n",
       "      <td>2</td>\n",
       "    </tr>\n",
       "    <tr>\n",
       "      <th>997</th>\n",
       "      <td>3</td>\n",
       "    </tr>\n",
       "    <tr>\n",
       "      <th>998</th>\n",
       "      <td>3</td>\n",
       "    </tr>\n",
       "    <tr>\n",
       "      <th>999</th>\n",
       "      <td>2</td>\n",
       "    </tr>\n",
       "  </tbody>\n",
       "</table>\n",
       "<p>1000 rows × 1 columns</p>\n",
       "</div>"
      ],
      "text/plain": [
       "     tissue\n",
       "0         3\n",
       "1         3\n",
       "2         3\n",
       "3         3\n",
       "4         1\n",
       "..      ...\n",
       "995       2\n",
       "996       2\n",
       "997       3\n",
       "998       3\n",
       "999       2\n",
       "\n",
       "[1000 rows x 1 columns]"
      ]
     },
     "execution_count": 66,
     "metadata": {},
     "output_type": "execute_result"
    }
   ],
   "source": [
    "tissue_df = pd.DataFrame(sampled_dataset['tissue'], columns=[\"tissue\"])\n",
    "tissue_df.to_csv(\"embedding_tissue_info.csv\", index=True)\n",
    "tissue_df"
   ]
  },
  {
   "cell_type": "code",
   "execution_count": 67,
   "id": "82086a19-e70c-4e76-9a71-d0fa2a3bb06d",
   "metadata": {},
   "outputs": [
    {
     "data": {
      "text/html": [
       "<div>\n",
       "<style scoped>\n",
       "    .dataframe tbody tr th:only-of-type {\n",
       "        vertical-align: middle;\n",
       "    }\n",
       "\n",
       "    .dataframe tbody tr th {\n",
       "        vertical-align: top;\n",
       "    }\n",
       "\n",
       "    .dataframe thead th {\n",
       "        text-align: right;\n",
       "    }\n",
       "</style>\n",
       "<table border=\"1\" class=\"dataframe\">\n",
       "  <thead>\n",
       "    <tr style=\"text-align: right;\">\n",
       "      <th></th>\n",
       "      <th>patient</th>\n",
       "    </tr>\n",
       "  </thead>\n",
       "  <tbody>\n",
       "    <tr>\n",
       "      <th>0</th>\n",
       "      <td>10</td>\n",
       "    </tr>\n",
       "    <tr>\n",
       "      <th>1</th>\n",
       "      <td>8</td>\n",
       "    </tr>\n",
       "    <tr>\n",
       "      <th>2</th>\n",
       "      <td>6</td>\n",
       "    </tr>\n",
       "    <tr>\n",
       "      <th>3</th>\n",
       "      <td>4</td>\n",
       "    </tr>\n",
       "    <tr>\n",
       "      <th>4</th>\n",
       "      <td>7</td>\n",
       "    </tr>\n",
       "    <tr>\n",
       "      <th>...</th>\n",
       "      <td>...</td>\n",
       "    </tr>\n",
       "    <tr>\n",
       "      <th>995</th>\n",
       "      <td>9</td>\n",
       "    </tr>\n",
       "    <tr>\n",
       "      <th>996</th>\n",
       "      <td>6</td>\n",
       "    </tr>\n",
       "    <tr>\n",
       "      <th>997</th>\n",
       "      <td>6</td>\n",
       "    </tr>\n",
       "    <tr>\n",
       "      <th>998</th>\n",
       "      <td>4</td>\n",
       "    </tr>\n",
       "    <tr>\n",
       "      <th>999</th>\n",
       "      <td>9</td>\n",
       "    </tr>\n",
       "  </tbody>\n",
       "</table>\n",
       "<p>1000 rows × 1 columns</p>\n",
       "</div>"
      ],
      "text/plain": [
       "     patient\n",
       "0         10\n",
       "1          8\n",
       "2          6\n",
       "3          4\n",
       "4          7\n",
       "..       ...\n",
       "995        9\n",
       "996        6\n",
       "997        6\n",
       "998        4\n",
       "999        9\n",
       "\n",
       "[1000 rows x 1 columns]"
      ]
     },
     "execution_count": 67,
     "metadata": {},
     "output_type": "execute_result"
    }
   ],
   "source": [
    "patient_df = pd.DataFrame(sampled_dataset['patient'], columns=[\"patient\"])\n",
    "patient_df.to_csv(\"embedding_patient_info.csv\", index=True)\n",
    "patient_df"
   ]
  },
  {
   "cell_type": "markdown",
   "id": "b365f124-e166-4c97-b36b-3eb4fa4857e7",
   "metadata": {},
   "source": [
    "\"embedding_full\" contains a complete set of embedded samples, allowing for the study of shifts caused by perturbation. In contrast, \"embedding\" includes a larger set of samples, but it is not reciprocal—meaning not all samples have both their shifted and unshifted counterparts in the dataset."
   ]
  }
 ],
 "metadata": {
  "kernelspec": {
   "display_name": "Python 3 (ipykernel)",
   "language": "python",
   "name": "python3"
  },
  "language_info": {
   "codemirror_mode": {
    "name": "ipython",
    "version": 3
   },
   "file_extension": ".py",
   "mimetype": "text/x-python",
   "name": "python",
   "nbconvert_exporter": "python",
   "pygments_lexer": "ipython3",
   "version": "3.11.6"
  }
 },
 "nbformat": 4,
 "nbformat_minor": 5
}
