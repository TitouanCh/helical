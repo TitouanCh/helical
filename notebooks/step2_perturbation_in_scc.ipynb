{
 "cells": [
  {
   "cell_type": "markdown",
   "id": "ab98718d-6ef8-4517-b8b5-7636c89d7741",
   "metadata": {},
   "source": [
    "# Apply Perturbations to Tumor-Specific Genes in SCC"
   ]
  },
  {
   "cell_type": "markdown",
   "id": "f435264e-abad-42b5-9f62-0302e851ac7d",
   "metadata": {},
   "source": [
    "**helical-ai:** Utilize the workflow to target previously-reported tumor-specific genes in squamous\n",
    "cell carcinoma (SCC) populations which contribute to pathology. Simulate\n",
    "perturbations and process the resulting data using the GeneFormer_V2_Cancer model\n",
    "to embed the perturbation effects into a biologically informed latent space.\n",
    "\n",
    "**Titouan:** This step took me a bit more time as the task seemed somewhat open-ended. I ultimately chose to import the count data from the SCC Dataset (PMC7391009), apply my in-silico perturbation method to tumor-related genes, and embed the perturbed and unperturbed results for further analysis in step 3. I also faced a few issues stemming from working on my laptop, mainly issues with memory and the slow embedding process."
   ]
  },
  {
   "cell_type": "markdown",
   "id": "107d0c85-2472-4f9c-b294-37e0f4985d98",
   "metadata": {},
   "source": [
    "## 1) Imports & seed"
   ]
  },
  {
   "cell_type": "code",
   "execution_count": 1,
   "id": "f2896c9b-a142-4ce6-869b-57a83b65efc6",
   "metadata": {},
   "outputs": [],
   "source": [
    "import numpy as np\n",
    "import gzip\n",
    "import requests\n",
    "import anndata as ad\n",
    "import pandas as pd\n",
    "import random\n",
    "import scanpy as sc\n",
    "from anndata import AnnData\n",
    "\n",
    "seed = 42\n",
    "np.random.seed(seed)"
   ]
  },
  {
   "cell_type": "markdown",
   "id": "6f205d1a-cf05-4833-95c2-652dddf72cca",
   "metadata": {},
   "source": [
    "## 2) Downloading data & processing data"
   ]
  },
  {
   "cell_type": "markdown",
   "id": "e2a2c319-d51e-4ba7-a7a5-f721b627f90a",
   "metadata": {},
   "source": [
    "I took the count data from the experiments on SCC from the PMC7391009 paper."
   ]
  },
  {
   "cell_type": "markdown",
   "id": "ff6aa6a2-5e0e-4ab7-99a8-971b8fb43df4",
   "metadata": {},
   "source": [
    "### 2.1) Downloading and extracting"
   ]
  },
  {
   "cell_type": "code",
   "execution_count": 2,
   "id": "50f172cc-484b-4e9a-860a-d5c0f25d4651",
   "metadata": {},
   "outputs": [
    {
     "name": "stdout",
     "output_type": "stream",
     "text": [
      "Downloading SCCcounts.txt.gz...\n",
      "Downloaded: SCCcounts.txt.gz\n",
      "Uncompressed: SCCcounts.txt\n"
     ]
    }
   ],
   "source": [
    "filename = \"SCCcounts.txt.gz\"\n",
    "url = \"https://ftp.ncbi.nlm.nih.gov/geo/series/GSE144nnn/GSE144236/suppl/GSE144236%5FcSCC%5Fcounts%2Etxt%2Egz\"\n",
    "\n",
    "print(f\"Downloading {filename}...\")\n",
    "response = requests.get(url)\n",
    "\n",
    "if response.status_code == 200:\n",
    "    with open(filename, \"wb\") as f:\n",
    "        f.write(response.content)\n",
    "    print(f\"Downloaded: {filename}\")\n",
    "else:\n",
    "    print(f\"Failed to download {filename}. HTTP status code: {response.status_code}\")\n",
    "\n",
    "# Uncompress\n",
    "filename_uncompressed = filename.split(\".\")[0] + \".txt\"\n",
    "with gzip.open(filename, 'rt') as infile:\n",
    "    with open(filename_uncompressed, 'w') as outfile:\n",
    "        for line in infile:\n",
    "            outfile.write(line)\n",
    "    print(f\"Uncompressed: {filename_uncompressed}\")"
   ]
  },
  {
   "cell_type": "markdown",
   "id": "15f8904b-2312-4cce-bdca-5087f3ebcad7",
   "metadata": {},
   "source": [
    "### 2.2) .txt to AnnData"
   ]
  },
  {
   "cell_type": "markdown",
   "id": "739163ab-52d5-49cd-b90c-326f99f00225",
   "metadata": {},
   "source": [
    "Since we downloaded raw count data (i.e., the number of reads for each gene in each sample), we now need to format this data into an AnnData object. I built a simple parser that reads a specified number of samples (columns) in a memory-efficient manner. It also selects random columns without repetition to avoid always using the first N samples."
   ]
  },
  {
   "cell_type": "markdown",
   "id": "1c6f7ea9-29f1-404f-93e5-319259e6bab6",
   "metadata": {},
   "source": [
    "chunk_size = 5000\n",
    "N = 6400 # I don't have enough memory to load every sample\n",
    "processed_chunks = []\n",
    "gene_names = []\n",
    "obs_names = []\n",
    "patient = []\n",
    "tissue = []\n",
    "total = 0\n",
    "\n",
    "with open(filename_uncompressed, \"r\") as file:\n",
    "    # Read the header (column/sample names)\n",
    "    header = file.readline().strip().split(\"\\t\")[:N]\n",
    "    patient = list(map(int, file.readline().strip().split(\"\\t\")[1:N + 1]))\n",
    "    tissue = list(map(int, file.readline().strip().split(\"\\t\")[1:N + 1]))\n",
    "    obs_names = header\n",
    "\n",
    "    while True:\n",
    "        # Read the next chunk of rows\n",
    "        chunk = []\n",
    "        chunk_gene_names = []\n",
    "        for _ in range(chunk_size):\n",
    "            line = file.readline()\n",
    "            if not line:\n",
    "                break\n",
    "            # Split the line into gene name and expression values\n",
    "            row = line.strip().split(\"\\t\")\n",
    "            chunk_gene_names.append(row[0])  # First value is the gene name\n",
    "            chunk.append(row[1:N + 1])  # Remaining values are expression data\n",
    "            \n",
    "        # If no more data, break the loop\n",
    "        if not chunk:\n",
    "            break\n",
    "\n",
    "        chunk_array = np.array(chunk, dtype=int)\n",
    "\n",
    "        # Append chunk\n",
    "        processed_chunks.append(chunk_array)\n",
    "        gene_names.extend(chunk_gene_names)\n",
    "\n",
    "        total += len(chunk)\n",
    "        if total % 5000 == 0: print(f\"Processed {total}/32740 rows\")\n",
    "print(\"finished\")"
   ]
  },
  {
   "cell_type": "markdown",
   "id": "b4b08146-2c53-4d09-9ab0-663010446922",
   "metadata": {},
   "source": [
    "chunk_size = 5000\n",
    "N = 6400 # I don't have enough memory to load every sample\n",
    "processed_chunks = []\n",
    "gene_names = []\n",
    "obs_names = []\n",
    "patient = []\n",
    "tissue = []\n",
    "total = 0\n",
    "\n",
    "with open(filename_uncompressed, \"r\") as file:\n",
    "    # Read the header (column/sample names)\n",
    "    header = file.readline().strip().split(\"\\t\")[:N]\n",
    "    patient = list(map(int, file.readline().strip().split(\"\\t\")[1:N + 1]))\n",
    "    tissue = list(map(int, file.readline().strip().split(\"\\t\")[1:N + 1]))\n",
    "    obs_names = header\n",
    "\n",
    "    # Get the total number of data lines (after the header, patient, and tissue rows)\n",
    "    file.seek(0)\n",
    "    total_lines = sum(1 for _ in file) - 3  # Subtract header, patient, tissue\n",
    "\n",
    "    # Create a list of line indices, shuffle them randomly\n",
    "    line_indices = list(range(total_lines))\n",
    "    random.shuffle(line_indices)\n",
    "\n",
    "    processed_chunks = []\n",
    "    gene_names = []\n",
    "    total = 0\n",
    "\n",
    "    # Read in chunks according to shuffled indices\n",
    "    for i in range(0, total_lines, chunk_size):\n",
    "        chunk_indices = line_indices[i:i + chunk_size]\n",
    "        chunk_indices.sort()  # Sort to minimize disk seek time\n",
    "\n",
    "        chunk = []\n",
    "        chunk_gene_names = []\n",
    "\n",
    "        with open(filename_uncompressed, \"r\") as file:\n",
    "            # Skip header, patient, and tissue rows\n",
    "            for _ in range(3):\n",
    "                file.readline()\n",
    "\n",
    "            for idx, line in enumerate(file):\n",
    "                if idx in chunk_indices:\n",
    "                    row = line.strip().split(\"\\t\")\n",
    "                    chunk_gene_names.append(row[0])  # First value is the gene name\n",
    "                    chunk.append(row[1:N + 1])  # Remaining values are expression data\n",
    "\n",
    "        if not chunk:\n",
    "            break\n",
    "\n",
    "        chunk_array = np.array(chunk, dtype=int)\n",
    "\n",
    "        # Append chunk\n",
    "        processed_chunks.append(chunk_array)\n",
    "        gene_names.extend(chunk_gene_names)\n",
    "\n",
    "        total += len(chunk)\n",
    "        if total % 5000 == 0:\n",
    "            print(f\"Processed {total}/{total_lines} rows\")\n",
    "print(\"finished\")"
   ]
  },
  {
   "cell_type": "code",
   "execution_count": 3,
   "id": "66682c38-7503-428f-9a38-36a4207ee3d5",
   "metadata": {},
   "outputs": [
    {
     "name": "stdout",
     "output_type": "stream",
     "text": [
      "Processed 5000/32741 rows\n",
      "Processed 10000/32741 rows\n",
      "Processed 15000/32741 rows\n",
      "Processed 20000/32741 rows\n",
      "Processed 25000/32741 rows\n",
      "Processed 30000/32741 rows\n",
      "Processed 32738/32741 rows -> finished!\n"
     ]
    }
   ],
   "source": [
    "chunk_size = 5000\n",
    "N = 5000 # I don't have enough memory to load every sample\n",
    "processed_chunks = []\n",
    "gene_names = []\n",
    "obs_names = []\n",
    "patient = []\n",
    "tissue = []\n",
    "total = 0\n",
    "total_lines = sum(1 for _ in open(filename_uncompressed, 'rb'))\n",
    "\n",
    "with open(filename_uncompressed, \"r\") as file:\n",
    "    # Read the header (column/sample names)\n",
    "    header = file.readline().strip().split(\"\\t\")\n",
    "    n_samples = len(header)\n",
    "    samples_idx = np.random.choice(np.arange(0, n_samples), size=N, replace=False)\n",
    "    \n",
    "    patient = file.readline().strip().split(\"\\t\")\n",
    "    patient = [patient[i + 1] for i in samples_idx]\n",
    "    patient = list(map(int, patient))\n",
    "    \n",
    "    tissue = file.readline().strip().split(\"\\t\")\n",
    "    tissue = [tissue[i + 1] for i in samples_idx]\n",
    "    tissue = list(map(int, tissue))\n",
    "    \n",
    "    obs_names = [header[i] for i in samples_idx]\n",
    "\n",
    "    processed_chunks = []\n",
    "    gene_names = []\n",
    "    total = 0\n",
    "\n",
    "    while True:\n",
    "        # Read the next chunk of rows\n",
    "        chunk = []\n",
    "        chunk_gene_names = []\n",
    "        for _ in range(chunk_size):\n",
    "            line = file.readline()\n",
    "            if not line:\n",
    "                break\n",
    "            # Split the line into gene name and expression values\n",
    "            row = line.strip().split(\"\\t\")\n",
    "            chunk_gene_names.append(row[0])  # First value is the gene name\n",
    "            chunk.append([row[i + 1] for i in samples_idx])  # Remaining values are expression data\n",
    "            \n",
    "        # If no more data, break the loop\n",
    "        if not chunk:\n",
    "            break\n",
    "\n",
    "        chunk_array = np.array(chunk, dtype=int)\n",
    "\n",
    "        # Append chunk\n",
    "        processed_chunks.append(chunk_array)\n",
    "        gene_names.extend(chunk_gene_names)\n",
    "\n",
    "        total += len(chunk)\n",
    "        if total % 5000 == 0:\n",
    "            print(f\"Processed {total}/{total_lines} rows\")\n",
    "\n",
    "print(f\"Processed {total}/{total_lines} rows -> finished!\")"
   ]
  },
  {
   "cell_type": "code",
   "execution_count": 4,
   "id": "769ad94f-9399-4674-a180-5e7f5b740a70",
   "metadata": {},
   "outputs": [
    {
     "data": {
      "text/plain": [
       "AnnData object with n_obs × n_vars = 5000 × 32738\n",
       "    obs: 'samples', 'patient', 'tissue'\n",
       "    var: 'gene_names'"
      ]
     },
     "execution_count": 4,
     "metadata": {},
     "output_type": "execute_result"
    }
   ],
   "source": [
    "# Combine all processed chunks into a single NumPy array\n",
    "final_data = np.vstack(processed_chunks)\n",
    "final_data = final_data.T\n",
    "\n",
    "# Create an AnnData object\n",
    "adata = AnnData(X=final_data)\n",
    "\n",
    "gene_names = [gene.replace('\"', '') for gene in gene_names]\n",
    "obs_names = [obs.replace('\"', '') for obs in obs_names]\n",
    "adata.var.index = gene_names\n",
    "adata.var[\"gene_names\"] = gene_names\n",
    "adata.obs[\"samples\"] = obs_names\n",
    "adata.obs[\"patient\"] = patient\n",
    "adata.obs[\"tissue\"] = tissue\n",
    "adata"
   ]
  },
  {
   "cell_type": "markdown",
   "id": "0bc99dd1-f165-4289-a67a-685cf91aac64",
   "metadata": {},
   "source": [
    "### 2.3) Looking at our AnnData object"
   ]
  },
  {
   "cell_type": "code",
   "execution_count": 5,
   "id": "b6308cd4-b89a-4d14-a539-75ce36ab6580",
   "metadata": {},
   "outputs": [
    {
     "data": {
      "text/plain": [
       "0        P5_Tumor_AAAGATGTCCTCCTAG\n",
       "1       P2_Normal_TGGGCGTTCCGTCATC\n",
       "2       P10_Tumor_CTTGGCTTCTCTAAGG\n",
       "3        P4_Tumor_CGAGAAGCATCCTAGA\n",
       "4       P9_Normal_ACTATCTTCGATCCCT\n",
       "                   ...            \n",
       "4995    P7_Normal_CAAGAAAGTCGCATAT\n",
       "4996    P2_Normal_AATCCAGCATCACGTA\n",
       "4997    P2_Normal_GCGCCAACATCATCCC\n",
       "4998     P7_Tumor_CTCGGGACAACGATCT\n",
       "4999    P8_Normal_GTTAAGCAGACATAAC\n",
       "Name: samples, Length: 5000, dtype: object"
      ]
     },
     "execution_count": 5,
     "metadata": {},
     "output_type": "execute_result"
    }
   ],
   "source": [
    "adata.obs['samples']"
   ]
  },
  {
   "cell_type": "code",
   "execution_count": 6,
   "id": "544299b2-84d6-4f4e-96db-c40bcf61688c",
   "metadata": {},
   "outputs": [
    {
     "data": {
      "text/plain": [
       "0       1\n",
       "1       0\n",
       "2       1\n",
       "3       1\n",
       "4       0\n",
       "       ..\n",
       "4995    0\n",
       "4996    0\n",
       "4997    0\n",
       "4998    1\n",
       "4999    0\n",
       "Name: tissue, Length: 5000, dtype: int64"
      ]
     },
     "execution_count": 6,
     "metadata": {},
     "output_type": "execute_result"
    }
   ],
   "source": [
    "adata.obs['tissue']"
   ]
  },
  {
   "cell_type": "markdown",
   "id": "b6fd3ed1-2878-4034-8d30-24a0f061b420",
   "metadata": {},
   "source": [
    "## 3) Simulating perturbations"
   ]
  },
  {
   "cell_type": "markdown",
   "id": "03ee72c1-bffd-48f7-a86b-d81e0a01867b",
   "metadata": {},
   "source": [
    "### 3.1) Importing step 1"
   ]
  },
  {
   "cell_type": "code",
   "execution_count": 7,
   "id": "b75a95eb-5c65-434f-80a8-452750d87f63",
   "metadata": {},
   "outputs": [],
   "source": [
    "import nbimporter # I don't recommend using this module, this is used only to keep everything in notebooks\n",
    "from step1_insilico_perturbation import perturb_genes_counts"
   ]
  },
  {
   "cell_type": "markdown",
   "id": "7edef65f-8fa8-4f8e-92f5-6f9d9e4e62bc",
   "metadata": {},
   "source": [
    "### 3.2) Identifying genes of interest"
   ]
  },
  {
   "cell_type": "markdown",
   "id": "f360af5c-404d-4985-a8db-19f732b8af84",
   "metadata": {},
   "source": [
    "According to the study PMC7391009 the genes of interest are:\n",
    "- Keratin genes (specific to TSK cells): Keratinocytes within tumors express specific keratins, which may be unique to tumor states.\n",
    "- CD8 and CD4 T cell-associated genes: Genes related to immune cell infiltration, such as T regulatory (Treg) cells and CD8 T cells, were observed in the tumor stroma, indicating potential immunosuppressive features.\n",
    "- Ligand-receptor network genes: These include genes related to cell-cell communication that were mapped to specific tumor and stromal cell types, although specific gene names were not provided in the summary."
   ]
  },
  {
   "cell_type": "markdown",
   "id": "404b7d66-ae20-44d2-b57e-f589af4c308b",
   "metadata": {},
   "source": [
    "keratin_genes = [gene for gene in adata.var[\"gene_names\"] if \"KRT\" in gene]\n",
    "print(keratin_genes[:10])"
   ]
  },
  {
   "cell_type": "markdown",
   "id": "36cb521f-d861-4646-b019-db393cc43fbf",
   "metadata": {},
   "source": [
    "immune_cell_genes = [gene for gene in adata.var[\"gene_names\"] if \"CD8\" in gene or \"CD4\" in gene or \"FOXP3\" in gene]\n",
    "print(immune_cell_genes[:10])"
   ]
  },
  {
   "cell_type": "markdown",
   "id": "96d6a303-913b-4120-88c0-3fef105f4c05",
   "metadata": {},
   "source": [
    "ligand_receptor_genes = [gene for gene in adata.var[\"gene_names\"] if \"EGFR\" in gene or \"CXCR\" in gene or \"CCR\" in gene]\n",
    "print(ligand_receptor_genes[:10])"
   ]
  },
  {
   "cell_type": "markdown",
   "id": "5a61ad9d-6dd2-4340-a5af-89c9709eb908",
   "metadata": {},
   "source": [
    "I couldn't find the tumor specific genes in the paper so I decided to just extract them myself from the raw counts data using differential expression analysis"
   ]
  },
  {
   "cell_type": "code",
   "execution_count": 8,
   "id": "d1da27d2-552f-47e2-bf75-fee5790ff0cd",
   "metadata": {},
   "outputs": [],
   "source": [
    "adata_pert = adata.copy() # Making a copy because we still need the raw counts for GeneFormer"
   ]
  },
  {
   "cell_type": "code",
   "execution_count": 9,
   "id": "679dcc9f-d056-4937-b6e7-1aef1cea482f",
   "metadata": {},
   "outputs": [
    {
     "data": {
      "text/plain": [
       "Index(['RP11-34P13.7', 'AL627309.1', 'AP006222.2', 'RP4-669L17.10',\n",
       "       'RP11-206L10.3', 'RP11-206L10.2', 'RP11-206L10.9', 'FAM87B',\n",
       "       'LINC00115', 'FAM41C',\n",
       "       ...\n",
       "       'BX072566.1', 'KIR2DL2', 'KIR3DL2.1', 'AL590523.1', 'CT476828.1',\n",
       "       'AC145205.1', 'BAGE5', 'CU459201.1', 'AC002321.2', 'AC002321.1'],\n",
       "      dtype='object', length=32738)"
      ]
     },
     "execution_count": 9,
     "metadata": {},
     "output_type": "execute_result"
    }
   ],
   "source": [
    "adata_pert.var_names"
   ]
  },
  {
   "cell_type": "code",
   "execution_count": 10,
   "id": "3462a95d-bc76-49b8-9dac-c7c16defcfde",
   "metadata": {},
   "outputs": [
    {
     "data": {
      "text/plain": [
       "AnnData object with n_obs × n_vars = 5000 × 20141\n",
       "    obs: 'samples', 'patient', 'tissue'\n",
       "    var: 'gene_names', 'n_cells'\n",
       "    uns: 'log1p'"
      ]
     },
     "execution_count": 10,
     "metadata": {},
     "output_type": "execute_result"
    }
   ],
   "source": [
    "# Filter out genes with low counts across spots\n",
    "sc.pp.filter_genes(adata_pert, min_cells=3)\n",
    "\n",
    "# Normalize the data (Scanpy will handle size factor normalization)\n",
    "sc.pp.normalize_total(adata_pert, target_sum=1e4)\n",
    "\n",
    "# Log-transform the data\n",
    "sc.pp.log1p(adata_pert)\n",
    "adata_pert"
   ]
  },
  {
   "cell_type": "code",
   "execution_count": 11,
   "id": "962fddab-bf29-487b-b6f4-0ece13291c9f",
   "metadata": {},
   "outputs": [
    {
     "data": {
      "text/plain": [
       "AnnData object with n_obs × n_vars = 5000 × 20141\n",
       "    obs: 'samples', 'patient', 'tissue'\n",
       "    var: 'gene_names', 'n_cells'\n",
       "    uns: 'log1p'"
      ]
     },
     "execution_count": 11,
     "metadata": {},
     "output_type": "execute_result"
    }
   ],
   "source": [
    "adata_pert.obs['tissue'] = pd.Categorical(adata_pert.obs['tissue'], categories=[0, 1])\n",
    "\n",
    "# Map the integers to meaningful labels (e.g., 'healthy' and 'tumor')\n",
    "category_mapping = {0: 'healthy', 1: 'tumor'}\n",
    "adata_pert.obs['tissue'] = adata_pert.obs['tissue'].map(category_mapping)\n",
    "\n",
    "# Convert back to categorical with labeled categories\n",
    "adata_pert.obs['tissue'] = pd.Categorical(adata_pert.obs['tissue'], categories=['healthy', 'tumor'])\n",
    "adata_pert"
   ]
  },
  {
   "cell_type": "code",
   "execution_count": 12,
   "id": "9bc233d3-c4a9-40c7-8b29-d4e092dd1c76",
   "metadata": {},
   "outputs": [],
   "source": [
    "sc.tl.rank_genes_groups(adata_pert, groupby='tissue', method='t-test')"
   ]
  },
  {
   "cell_type": "code",
   "execution_count": 13,
   "id": "171d8f16-5165-46db-b1d7-21f7c90c9102",
   "metadata": {},
   "outputs": [
    {
     "name": "stdout",
     "output_type": "stream",
     "text": [
      "        Group    Gene  Log Fold Change        P-Value Expression Status\n",
      "0     healthy    SIK1         2.737688  2.137507e-303    over-expressed\n",
      "1     healthy    EGR1         2.257723  1.111294e-294    over-expressed\n",
      "2     healthy    FOSB         1.929482  1.484942e-278    over-expressed\n",
      "3     healthy    KRT1         3.292260  3.931046e-249    over-expressed\n",
      "4     healthy   KRT10         2.874529  1.941393e-244    over-expressed\n",
      "...       ...     ...              ...            ...               ...\n",
      "1995    tumor   EIF4E         0.478885   3.990513e-18    over-expressed\n",
      "1996    tumor   KRT6C         0.768156   4.014737e-18    over-expressed\n",
      "1997    tumor   MPEG1         1.204610   4.086948e-18    over-expressed\n",
      "1998    tumor    GBP6         1.827913   4.326594e-18    over-expressed\n",
      "1999    tumor  ATP5C1         0.336425   4.257063e-18    over-expressed\n",
      "\n",
      "[2000 rows x 5 columns]\n"
     ]
    }
   ],
   "source": [
    "# Perform differential expression analysis using t-test\n",
    "sc.tl.rank_genes_groups(adata_pert, groupby='tissue', method='t-test')\n",
    "\n",
    "# Extract the results for the top N genes for each group\n",
    "top_genes = adata_pert.uns['rank_genes_groups']['names']  # Get the gene names for all groups\n",
    "\n",
    "N = 1000 # top 1000 genes (chosen arbitrarily)\n",
    "\n",
    "# Extract the top N genes from each group\n",
    "top_genes_N = {group: top_genes[group][:N] for group in top_genes.dtype.names}\n",
    "\n",
    "# Extract the log fold change for each gene\n",
    "log_fold_changes = adata_pert.uns['rank_genes_groups']['logfoldchanges']\n",
    "\n",
    "# Extract the p-values for the genes\n",
    "p_values = adata_pert.uns['rank_genes_groups']['pvals']\n",
    "\n",
    "# Determine whether each gene is over- or under-expressed based on log-fold change\n",
    "# log-fold change = log2(expressionA/expressionB) so log2 > 0: over-expressed and log2 < 0: underexpressed\n",
    "# this ends up being useless because they end up being all over-expressed due to how scipy selects the genes\n",
    "expression_status = {group: ['over-expressed' if fc > 0 else 'under-expressed' for fc in log_fold_changes[group][:N]] \n",
    "                     for group in log_fold_changes.dtype.names}\n",
    "\n",
    "# Combine the gene names, log fold change, p-values, and expression status into a dataframe\n",
    "top_genes_info = []\n",
    "for group in top_genes_N:\n",
    "    for gene, fc, p_val, status in zip(top_genes_N[group], log_fold_changes[group][:N], p_values[group][:N], expression_status[group]):\n",
    "        top_genes_info.append({\n",
    "            'Group': group,\n",
    "            'Gene': gene,\n",
    "            'Log Fold Change': fc,\n",
    "            'P-Value': p_val,\n",
    "            'Expression Status': status\n",
    "        })\n",
    "\n",
    "top_genes_df = pd.DataFrame(top_genes_info)\n",
    "\n",
    "# Show the result\n",
    "print(top_genes_df)"
   ]
  },
  {
   "cell_type": "code",
   "execution_count": 14,
   "id": "0cd36420-5b4e-4ad2-bbd8-1c7304c3ae8b",
   "metadata": {},
   "outputs": [
    {
     "name": "stdout",
     "output_type": "stream",
     "text": [
      "WARNING: dendrogram data not found (using key=dendrogram_tissue). Running `sc.tl.dendrogram` with default parameters. For fine tuning it is recommended to run `sc.tl.dendrogram` independently.\n"
     ]
    },
    {
     "name": "stderr",
     "output_type": "stream",
     "text": [
      "/opt/conda/lib/python3.11/site-packages/scanpy/tools/_utils.py:41: UserWarning: You’re trying to run this on 20141 dimensions of `.X`, if you really want this, set `use_rep='X'`.\n",
      "         Falling back to preprocessing with `sc.pp.pca` and default params.\n",
      "  warnings.warn(\n"
     ]
    },
    {
     "data": {
      "image/png": "[encoded data removed]",
      "text/plain": [
       "<Figure size 720x600 with 5 Axes>"
      ]
     },
     "metadata": {},
     "output_type": "display_data"
    }
   ],
   "source": [
    "sc.pl.rank_genes_groups_heatmap(adata_pert, n_genes=10, groupby='tissue', show=True)"
   ]
  },
  {
   "cell_type": "code",
   "execution_count": 15,
   "id": "b84931ba-9b54-476f-9f62-4b8ddf9d8cfa",
   "metadata": {},
   "outputs": [
    {
     "name": "stdout",
     "output_type": "stream",
     "text": [
      "['SIK1' 'EGR1' 'FOSB' 'KRT1' 'KRT10' 'CCL27' 'DMKN' 'ZFP36L1' 'TPPP3'\n",
      " 'RORA' 'ZFP36L2' 'TRIM29' 'NEAT1' 'KLF4' 'PKP1' 'RPS8' 'FOS' 'LMNA'\n",
      " 'NR4A1' 'ZFP36' 'KLF5' 'NRARP' 'MYC' 'APOE' 'CD55' 'MT-ND3' 'RPL31'\n",
      " 'RPLP1' 'JUNB' 'EMP1' 'DSP' 'DSC3' 'ATF3' 'LGALS7B' 'SLC38A2' 'LDLR'\n",
      " 'IRF6' 'JUND' 'JUP' 'ZC3H12A' 'DSG1' 'LGALS7' 'FGFR3' 'RPL36A' 'ID1'\n",
      " 'DAPL1' 'PERP' 'KLK11' 'CDHR1' 'GATM' 'TUBB2A' 'EPHA2' 'TNFRSF19'\n",
      " 'KRTDAP' 'RPS18' 'LYPD3' 'SEPP1' 'MT1X' 'RND3' 'RPL37A' 'IER2' 'LY6D'\n",
      " 'CAPNS2' 'HOPX' 'DUSP1' 'TOB1' 'EPHB6' 'GATA3' 'RPLP2' 'EXPH5' 'RPL37'\n",
      " 'MIDN' 'TNS4' 'KRT2' 'LGALS3' 'CLEC2B' 'KCNK7' 'PER1' 'SDC1' 'SERTAD1'\n",
      " 'DEGS1' 'H3F3B' 'RPL36' 'EZR' 'AQP3' 'APCDD1' 'PALMD' 'MIR24-2' 'GPC1'\n",
      " 'SFN' 'DSC1' 'TMEM45A' 'CRIP2' 'TOB2' 'CYR61' 'DEFB1' 'CEBPA' 'EMP2'\n",
      " 'SNHG8' 'GLTSCR2']\n",
      "['TMSB10' 'BST2' 'ARPC1B' 'PFN1' 'ISG15' 'LY6E' 'ACTB' 'PSME2' 'MYL12A'\n",
      " 'TYMP' 'CFL1' 'LAP3' 'PRELID1' 'ARPC2' 'CTSC' 'SERPINB1' 'CYBA' 'CAP1'\n",
      " 'GBP1' 'CTSB' 'TPM3' 'MX1' 'SUB1' 'IFI6' 'COTL1' 'FTL' 'LGALS1' 'HSPA8'\n",
      " 'TUBB' 'EPSTI1' 'FAM49B' 'ATP6V0E1' 'ARPC5' 'STAT1' 'GAPDH' 'HLA-C'\n",
      " 'PSMB9' 'C1QB' 'SAT1' 'B2M' 'ARL6IP5' 'PKM' 'CD74' 'UBE2L6' 'PLSCR1'\n",
      " 'TPI1' 'PGK1' 'LCP1' 'WARS' 'HLA-DRA' 'ARPC3' 'PARP14' 'S100A6' 'FTH1'\n",
      " 'ENO1' 'POMP' 'PDIA6' 'PSMB8' 'HLA-DPA1' 'CD63' 'TUBA1B' 'GJB2' 'DBNL'\n",
      " 'PTPRC' 'LDHB' 'UCP2' 'PSME1' 'C1QC' 'CIB1' 'RAB31' 'C15orf48' 'ANXA5'\n",
      " 'GPX1' 'TMSB4X' 'RHOA' 'IFI35' 'GSTO1' 'SAMD9L' 'IFIT3' 'OAZ1' 'YWHAH'\n",
      " 'MYL6' 'CXCL10' 'SDF2L1' 'HLA-DPB1' 'SLC16A3' 'SH3BGRL3' 'CNDP2'\n",
      " 'TXNDC17' 'LITAF' 'PPA1' 'GJB6' 'FCER1G' 'ATOX1' 'IGSF6' 'TAP1' 'C1QA'\n",
      " 'IDO1' 'TMEM176A' 'TMEM176B']\n"
     ]
    }
   ],
   "source": [
    "healthy_genes = top_genes_N.get('healthy', [])\n",
    "print(healthy_genes[:100])\n",
    "tumor_genes = top_genes_N.get('tumor', [])\n",
    "print(tumor_genes[:100])"
   ]
  },
  {
   "cell_type": "code",
   "execution_count": 16,
   "id": "6ed7660c-5a54-475f-8bb6-3b177496b0e6",
   "metadata": {},
   "outputs": [],
   "source": [
    "del adata_pert # for memory"
   ]
  },
  {
   "cell_type": "markdown",
   "id": "67e89455-04e3-4294-be99-38e07e4f506b",
   "metadata": {},
   "source": [
    "### 3.3) Splitting the data"
   ]
  },
  {
   "cell_type": "code",
   "execution_count": 17,
   "id": "45961856-5bd1-4587-b9bb-851635c0fbe0",
   "metadata": {},
   "outputs": [
    {
     "data": {
      "text/plain": [
       "AnnData object with n_obs × n_vars = 2662 × 32738\n",
       "    obs: 'samples', 'patient', 'tissue'\n",
       "    var: 'gene_names'"
      ]
     },
     "execution_count": 17,
     "metadata": {},
     "output_type": "execute_result"
    }
   ],
   "source": [
    "adata_tumor = adata[adata.obs['tissue'] == 1].copy()\n",
    "adata_tumor"
   ]
  },
  {
   "cell_type": "code",
   "execution_count": 18,
   "id": "f34d451e-fc63-45dc-9362-99651f395513",
   "metadata": {},
   "outputs": [
    {
     "data": {
      "text/plain": [
       "AnnData object with n_obs × n_vars = 2338 × 32738\n",
       "    obs: 'samples', 'patient', 'tissue'\n",
       "    var: 'gene_names'"
      ]
     },
     "execution_count": 18,
     "metadata": {},
     "output_type": "execute_result"
    }
   ],
   "source": [
    "adata_healthy = adata[adata.obs['tissue'] == 0].copy()\n",
    "adata_healthy"
   ]
  },
  {
   "cell_type": "code",
   "execution_count": 19,
   "id": "7fe9db16-156c-4480-a715-1e2a9d774787",
   "metadata": {},
   "outputs": [],
   "source": [
    "del adata"
   ]
  },
  {
   "cell_type": "markdown",
   "id": "c4887de4-98bb-4b3f-8aa1-eec3cc3ceea6",
   "metadata": {},
   "source": [
    "### 3.4) Simulating knock-up of tumor-specific genes and knock-down of healthy genes in healthy cells"
   ]
  },
  {
   "cell_type": "markdown",
   "id": "92d428bd-22cd-4ee1-9767-05c29f650e7f",
   "metadata": {},
   "source": [
    "Let's see if we can 'create' tumor cells from healthy cells by only touching the genes we believe contribute to the pathology. We'll later see how this looks in the embeddings."
   ]
  },
  {
   "cell_type": "code",
   "execution_count": 20,
   "id": "4582df84-c4a4-4d01-800c-3c3ccd88eeee",
   "metadata": {},
   "outputs": [],
   "source": [
    "fold_change = 0.9"
   ]
  },
  {
   "cell_type": "code",
   "execution_count": 21,
   "id": "5b2317cd-4b6b-4499-b440-6d797ad74283",
   "metadata": {},
   "outputs": [
    {
     "data": {
      "text/plain": [
       "AnnData object with n_obs × n_vars = 2338 × 32738\n",
       "    obs: 'samples', 'patient', 'tissue'\n",
       "    var: 'gene_names'"
      ]
     },
     "execution_count": 21,
     "metadata": {},
     "output_type": "execute_result"
    }
   ],
   "source": [
    "perturbed_healthy_adata = perturb_genes_counts(adata_healthy.copy(), \"gene_names\", tumor_genes, \"knock-up\", fold_change)\n",
    "perturbed_healthy_adata = perturb_genes_counts(adata_healthy.copy(), \"gene_names\", healthy_genes, \"knock-down\", fold_change)\n",
    "perturbed_healthy_adata.obs['tissue'] = 2 # Set a tag for latter (0: healthy, 1: tumor, 2: healthy_knock-up, 3: tumor_knock-down)\n",
    "perturbed_healthy_adata.obs.index = perturbed_healthy_adata.obs.index + \"_MODIFIED\"\n",
    "perturbed_healthy_adata"
   ]
  },
  {
   "cell_type": "markdown",
   "id": "20e88e5b-39c4-40ae-9f37-a5bc34984481",
   "metadata": {},
   "source": [
    "### 3.5) Simulating knock-down of tumor-specific genes in cancerous cells"
   ]
  },
  {
   "cell_type": "markdown",
   "id": "7599e751-3b69-4942-b16a-46a36aa7750f",
   "metadata": {},
   "source": [
    "See above"
   ]
  },
  {
   "cell_type": "code",
   "execution_count": 22,
   "id": "81233172-e618-4446-a007-6225146907c8",
   "metadata": {},
   "outputs": [
    {
     "data": {
      "text/plain": [
       "AnnData object with n_obs × n_vars = 2662 × 32738\n",
       "    obs: 'samples', 'patient', 'tissue'\n",
       "    var: 'gene_names'"
      ]
     },
     "execution_count": 22,
     "metadata": {},
     "output_type": "execute_result"
    }
   ],
   "source": [
    "perturbed_tumor_adata = perturb_genes_counts(adata_tumor.copy(), \"gene_names\", healthy_genes, \"knock-up\", fold_change)\n",
    "perturbed_tumor_adata = perturb_genes_counts(adata_tumor.copy(), \"gene_names\", tumor_genes, \"knock-down\", fold_change)\n",
    "perturbed_tumor_adata.obs['tissue'] = 3 # Set a tag for latter (0: healthy, 1: tumor, 2: healthy_knock-up, 3: tumor_knock-down)\n",
    "perturbed_tumor_adata.obs.index = perturbed_tumor_adata.obs.index + \"_MODIFIED\"\n",
    "perturbed_tumor_adata"
   ]
  },
  {
   "cell_type": "markdown",
   "id": "1e4b19b4-7a1c-4b8b-95e1-359a673e05b0",
   "metadata": {},
   "source": [
    "### 3.6) Putting it all back together"
   ]
  },
  {
   "cell_type": "code",
   "execution_count": 23,
   "id": "9d645a6c-dd96-4633-8bd1-e94767bd8048",
   "metadata": {},
   "outputs": [
    {
     "data": {
      "text/plain": [
       "AnnData object with n_obs × n_vars = 10000 × 32738\n",
       "    obs: 'samples', 'patient', 'tissue'\n",
       "    var: 'gene_names'"
      ]
     },
     "execution_count": 23,
     "metadata": {},
     "output_type": "execute_result"
    }
   ],
   "source": [
    "adata_combined = ad.concat([adata_tumor, adata_healthy, perturbed_healthy_adata, perturbed_tumor_adata], join='outer', merge='same') \n",
    "adata_combined"
   ]
  },
  {
   "cell_type": "code",
   "execution_count": 24,
   "id": "ad4369ae-b2d4-4798-89e4-5befcabad59e",
   "metadata": {},
   "outputs": [],
   "source": [
    "del adata_tumor\n",
    "del adata_healthy\n",
    "del perturbed_healthy_adata\n",
    "del perturbed_tumor_adata"
   ]
  },
  {
   "cell_type": "markdown",
   "id": "5d8eec11-c00f-49ae-8112-ebddadf85745",
   "metadata": {},
   "source": [
    "## 4) Checkpoint"
   ]
  },
  {
   "cell_type": "code",
   "execution_count": 25,
   "id": "4711e54e-1edb-4e48-b40a-fa2990e5e961",
   "metadata": {},
   "outputs": [
    {
     "name": "stdout",
     "output_type": "stream",
     "text": [
      "AnnData object successfully saved to checkpoint.h5ad\n"
     ]
    }
   ],
   "source": [
    "def save_anndata(adata: AnnData, file_path: str):\n",
    "    \"\"\"\n",
    "    Saves an AnnData object to a specified file path.\n",
    "    \n",
    "    Args:\n",
    "        adata (AnnData): The AnnData object to save.\n",
    "        file_path (str): Path to save the `.h5ad` file.\n",
    "    \"\"\"\n",
    "    try:\n",
    "        adata.write(file_path)\n",
    "        print(f\"AnnData object successfully saved to {file_path}\")\n",
    "    except Exception as e:\n",
    "        print(f\"Error saving AnnData object: {e}\")\n",
    "\n",
    "file_path = \"checkpoint.h5ad\"\n",
    "save_anndata(adata_combined, file_path)"
   ]
  },
  {
   "cell_type": "markdown",
   "id": "85fa88a6-5d77-4557-a6d1-429beba26a59",
   "metadata": {},
   "source": [
    "## 5) Embedding"
   ]
  },
  {
   "cell_type": "markdown",
   "id": "92054e0a-2f2f-4ab8-98ae-2b6d95b23fe0",
   "metadata": {},
   "source": [
    "### 5.1) Imports"
   ]
  },
  {
   "cell_type": "code",
   "execution_count": 26,
   "id": "e96d088c-77d1-40f3-b24d-010c1a881ba4",
   "metadata": {},
   "outputs": [
    {
     "name": "stderr",
     "output_type": "stream",
     "text": [
      "2024-12-03 16:29:33.567341: I tensorflow/core/util/port.cc:153] oneDNN custom operations are on. You may see slightly different numerical results due to floating-point round-off errors from different computation orders. To turn them off, set the environment variable `TF_ENABLE_ONEDNN_OPTS=0`.\n",
      "2024-12-03 16:29:33.687508: E external/local_xla/xla/stream_executor/cuda/cuda_fft.cc:485] Unable to register cuFFT factory: Attempting to register factory for plugin cuFFT when one has already been registered\n",
      "2024-12-03 16:29:33.732474: E external/local_xla/xla/stream_executor/cuda/cuda_dnn.cc:8454] Unable to register cuDNN factory: Attempting to register factory for plugin cuDNN when one has already been registered\n",
      "2024-12-03 16:29:33.749415: E external/local_xla/xla/stream_executor/cuda/cuda_blas.cc:1452] Unable to register cuBLAS factory: Attempting to register factory for plugin cuBLAS when one has already been registered\n",
      "2024-12-03 16:29:33.849323: I tensorflow/core/platform/cpu_feature_guard.cc:210] This TensorFlow binary is optimized to use available CPU instructions in performance-critical operations.\n",
      "To enable the following instructions: AVX2 AVX_VNNI FMA, in other operations, rebuild TensorFlow with the appropriate compiler flags.\n",
      "2024-12-03 16:29:34.631730: W tensorflow/compiler/tf2tensorrt/utils/py_utils.cc:38] TF-TRT Warning: Could not find TensorRT\n",
      "<frozen importlib._bootstrap>:1047: ImportWarning: NotebookFinder.find_spec() not found; falling back to find_module()\n",
      "/opt/conda/lib/python3.11/site-packages/helical/models/scgpt/model_dir/multiomic_model.py:19: UserWarning: flash_attn is not installed\n",
      "  warnings.warn(\"flash_attn is not installed\")\n",
      "/opt/conda/lib/python3.11/site-packages/torchtext/vocab/__init__.py:4: UserWarning: \n",
      "/!\\ IMPORTANT WARNING ABOUT TORCHTEXT STATUS /!\\ \n",
      "Torchtext is deprecated and the last released version will be 0.18 (this one). You can silence this warning by calling the following at the beginnign of your scripts: `import torchtext; torchtext.disable_torchtext_deprecation_warning()`\n",
      "  warnings.warn(torchtext._TORCHTEXT_DEPRECATION_MSG)\n",
      "/opt/conda/lib/python3.11/site-packages/torchtext/utils.py:4: UserWarning: \n",
      "/!\\ IMPORTANT WARNING ABOUT TORCHTEXT STATUS /!\\ \n",
      "Torchtext is deprecated and the last released version will be 0.18 (this one). You can silence this warning by calling the following at the beginnign of your scripts: `import torchtext; torchtext.disable_torchtext_deprecation_warning()`\n",
      "  warnings.warn(torchtext._TORCHTEXT_DEPRECATION_MSG)\n",
      "INFO:helical.utils.downloader:File: '/home/jovyan/.cache/helical/models/geneformer/v1/gene_median_dictionary.pkl' exists already. File is not overwritten and nothing is downloaded.\n",
      "INFO:helical.utils.downloader:File saved to: '/home/jovyan/.cache/helical/models/geneformer/v1/gene_median_dictionary.pkl'\n",
      "INFO:helical.utils.downloader:File: '/home/jovyan/.cache/helical/models/geneformer/v1/token_dictionary.pkl' exists already. File is not overwritten and nothing is downloaded.\n",
      "INFO:helical.utils.downloader:File saved to: '/home/jovyan/.cache/helical/models/geneformer/v1/token_dictionary.pkl'\n",
      "INFO:helical.utils.downloader:File: '/home/jovyan/.cache/helical/models/geneformer/v1/ensembl_mapping_dict.pkl' exists already. File is not overwritten and nothing is downloaded.\n",
      "INFO:helical.utils.downloader:File saved to: '/home/jovyan/.cache/helical/models/geneformer/v1/ensembl_mapping_dict.pkl'\n",
      "INFO:helical.utils.downloader:File: '/home/jovyan/.cache/helical/models/geneformer/v1/gf-12L-30M-i2048/config.json' exists already. File is not overwritten and nothing is downloaded.\n",
      "INFO:helical.utils.downloader:File saved to: '/home/jovyan/.cache/helical/models/geneformer/v1/gf-12L-30M-i2048/config.json'\n",
      "INFO:helical.utils.downloader:File: '/home/jovyan/.cache/helical/models/geneformer/v1/gf-12L-30M-i2048/training_args.bin' exists already. File is not overwritten and nothing is downloaded.\n",
      "INFO:helical.utils.downloader:File saved to: '/home/jovyan/.cache/helical/models/geneformer/v1/gf-12L-30M-i2048/training_args.bin'\n",
      "INFO:helical.utils.downloader:File: '/home/jovyan/.cache/helical/models/geneformer/v1/gf-12L-30M-i2048/pytorch_model.bin' exists already. File is not overwritten and nothing is downloaded.\n",
      "INFO:helical.utils.downloader:File saved to: '/home/jovyan/.cache/helical/models/geneformer/v1/gf-12L-30M-i2048/pytorch_model.bin'\n",
      "INFO:helical.models.geneformer.model:Model finished initializing.\n"
     ]
    }
   ],
   "source": [
    "from helical import Geneformer, GeneformerConfig\n",
    "import torch\n",
    "\n",
    "device = \"cuda\" if torch.cuda.is_available() else \"cpu\"\n",
    "model_config = GeneformerConfig(batch_size=10, device=device)\n",
    "geneformer = Geneformer(configurer=model_config)"
   ]
  },
  {
   "cell_type": "markdown",
   "id": "1bcab56e-2c11-4972-934c-b6b7695a2f79",
   "metadata": {},
   "source": [
    "### 5.2) Conversion I need to do to make everything work"
   ]
  },
  {
   "cell_type": "code",
   "execution_count": 27,
   "id": "9cf957a9-a968-40dd-b347-f949da837163",
   "metadata": {},
   "outputs": [],
   "source": [
    "import scipy.sparse as sp\n",
    "\n",
    "# Convert adata.X to a sparse CSR matrix with dtype=float64\n",
    "if not sp.issparse(adata_combined.X):  # Check if it's already sparse\n",
    "    adata_combined.X = sp.csr_matrix(adata_combined.X, dtype=np.float64)"
   ]
  },
  {
   "cell_type": "markdown",
   "id": "75d778c8-7b2f-498b-bee4-59dee07e4363",
   "metadata": {},
   "source": [
    "### 5.3) Processing data & Embedding"
   ]
  },
  {
   "cell_type": "code",
   "execution_count": 28,
   "id": "cac67c2b-6a8c-41bd-bac6-c6c5fb22a687",
   "metadata": {},
   "outputs": [
    {
     "name": "stderr",
     "output_type": "stream",
     "text": [
      "INFO:pyensembl.download_cache:Fetching /home/jovyan/.cache/pyensembl/GRCh38/ensembl110/Homo_sapiens.GRCh38.cdna.all.fa.gz from URL https://ftp.ensembl.org/pub/release-110/fasta/homo_sapiens/cdna/Homo_sapiens.GRCh38.cdna.all.fa.gz\n",
      "INFO:datacache.download:Downloading https://ftp.ensembl.org/pub/release-110/fasta/homo_sapiens/cdna/Homo_sapiens.GRCh38.cdna.all.fa.gz to /home/jovyan/.cache/pyensembl/GRCh38/ensembl110/Homo_sapiens.GRCh38.cdna.all.fa.gz\n",
      "INFO:pyensembl.download_cache:Fetching /home/jovyan/.cache/pyensembl/GRCh38/ensembl110/Homo_sapiens.GRCh38.ncrna.fa.gz from URL https://ftp.ensembl.org/pub/release-110/fasta/homo_sapiens/ncrna/Homo_sapiens.GRCh38.ncrna.fa.gz\n",
      "INFO:datacache.download:Downloading https://ftp.ensembl.org/pub/release-110/fasta/homo_sapiens/ncrna/Homo_sapiens.GRCh38.ncrna.fa.gz to /home/jovyan/.cache/pyensembl/GRCh38/ensembl110/Homo_sapiens.GRCh38.ncrna.fa.gz\n",
      "INFO:pyensembl.download_cache:Fetching /home/jovyan/.cache/pyensembl/GRCh38/ensembl110/Homo_sapiens.GRCh38.pep.all.fa.gz from URL https://ftp.ensembl.org/pub/release-110/fasta/homo_sapiens/pep/Homo_sapiens.GRCh38.pep.all.fa.gz\n",
      "INFO:datacache.download:Downloading https://ftp.ensembl.org/pub/release-110/fasta/homo_sapiens/pep/Homo_sapiens.GRCh38.pep.all.fa.gz to /home/jovyan/.cache/pyensembl/GRCh38/ensembl110/Homo_sapiens.GRCh38.pep.all.fa.gz\n",
      "INFO:pyensembl.database:Creating database: /home/jovyan/.cache/pyensembl/GRCh38/ensembl110/Homo_sapiens.GRCh38.110.gtf.db\n",
      "INFO:pyensembl.database:Reading GTF from /home/jovyan/.cache/pyensembl/GRCh38/ensembl110/Homo_sapiens.GRCh38.110.gtf.gz\n",
      "INFO:root:Extracted GTF attributes: ['gene_id', 'gene_version', 'gene_name', 'gene_biotype', 'transcript_id', 'transcript_version', 'transcript_name', 'transcript_biotype', 'transcript_support_level', 'exon_number', 'exon_id', 'exon_version', 'protein_id', 'protein_version', 'ccds_id']\n",
      "INFO:datacache.database_helpers:Creating database /home/jovyan/.cache/pyensembl/GRCh38/ensembl110/Homo_sapiens.GRCh38.110.gtf.db containing: CDS, gene, exon, stop_codon, start_codon, transcript\n",
      "INFO:datacache.database:Running sqlite query: \"CREATE TABLE CDS (gene_name TEXT NOT NULL, start INT NOT NULL, exon_id TEXT NOT NULL, seqname TEXT NOT NULL, protein_id TEXT NOT NULL, gene_id TEXT NOT NULL, strand TEXT NOT NULL, transcript_name TEXT NOT NULL, gene_biotype TEXT NOT NULL, feature TEXT NOT NULL, end INT NOT NULL, transcript_biotype TEXT NOT NULL, exon_version TEXT NOT NULL, gene_version TEXT NOT NULL, ccds_id TEXT NOT NULL, transcript_support_level TEXT NOT NULL, protein_version TEXT NOT NULL, transcript_id TEXT NOT NULL, exon_number TEXT NOT NULL, source TEXT NOT NULL, transcript_version TEXT NOT NULL)\"\n",
      "INFO:datacache.database:Inserting 885265 rows into table CDS\n",
      "INFO:datacache.database:Creating index on CDS (seqname, start, end)\n",
      "INFO:datacache.database:Creating index on CDS (gene_name)\n",
      "INFO:datacache.database:Creating index on CDS (gene_id)\n",
      "INFO:datacache.database:Creating index on CDS (transcript_id)\n",
      "INFO:datacache.database:Creating index on CDS (transcript_name)\n",
      "INFO:datacache.database:Creating index on CDS (exon_id)\n",
      "INFO:datacache.database:Creating index on CDS (protein_id)\n",
      "INFO:datacache.database:Creating index on CDS (ccds_id)\n",
      "INFO:datacache.database:Running sqlite query: \"CREATE TABLE gene (gene_name TEXT NOT NULL, start INT NOT NULL, exon_id TEXT NOT NULL, seqname TEXT NOT NULL, protein_id TEXT NOT NULL, gene_id TEXT UNIQUE PRIMARY KEY NOT NULL, strand TEXT NOT NULL, transcript_name TEXT NOT NULL, gene_biotype TEXT NOT NULL, feature TEXT NOT NULL, end INT NOT NULL, transcript_biotype TEXT NOT NULL, exon_version TEXT NOT NULL, gene_version TEXT NOT NULL, ccds_id TEXT NOT NULL, transcript_support_level TEXT NOT NULL, protein_version TEXT NOT NULL, transcript_id TEXT NOT NULL, exon_number TEXT NOT NULL, source TEXT NOT NULL, transcript_version TEXT NOT NULL)\"\n",
      "INFO:datacache.database:Inserting 62754 rows into table gene\n",
      "INFO:datacache.database:Creating index on gene (seqname, start, end)\n",
      "INFO:datacache.database:Creating index on gene (gene_name)\n",
      "INFO:datacache.database:Creating index on gene (transcript_id)\n",
      "INFO:datacache.database:Creating index on gene (transcript_name)\n",
      "INFO:datacache.database:Creating index on gene (exon_id)\n",
      "INFO:datacache.database:Creating index on gene (protein_id)\n",
      "INFO:datacache.database:Creating index on gene (ccds_id)\n",
      "INFO:datacache.database:Running sqlite query: \"CREATE TABLE exon (gene_name TEXT NOT NULL, start INT NOT NULL, exon_id TEXT NOT NULL, seqname TEXT NOT NULL, protein_id TEXT NOT NULL, gene_id TEXT NOT NULL, strand TEXT NOT NULL, transcript_name TEXT NOT NULL, gene_biotype TEXT NOT NULL, feature TEXT NOT NULL, end INT NOT NULL, transcript_biotype TEXT NOT NULL, exon_version TEXT NOT NULL, gene_version TEXT NOT NULL, ccds_id TEXT NOT NULL, transcript_support_level TEXT NOT NULL, protein_version TEXT NOT NULL, transcript_id TEXT NOT NULL, exon_number TEXT NOT NULL, source TEXT NOT NULL, transcript_version TEXT NOT NULL)\"\n",
      "INFO:datacache.database:Inserting 1649677 rows into table exon\n",
      "INFO:datacache.database:Creating index on exon (seqname, start, end)\n",
      "INFO:datacache.database:Creating index on exon (gene_name)\n",
      "INFO:datacache.database:Creating index on exon (gene_id)\n",
      "INFO:datacache.database:Creating index on exon (transcript_id)\n",
      "INFO:datacache.database:Creating index on exon (transcript_name)\n",
      "INFO:datacache.database:Creating index on exon (exon_id)\n",
      "INFO:datacache.database:Creating index on exon (protein_id)\n",
      "INFO:datacache.database:Creating index on exon (ccds_id)\n",
      "INFO:datacache.database:Running sqlite query: \"CREATE TABLE stop_codon (gene_name TEXT NOT NULL, start INT NOT NULL, exon_id TEXT NOT NULL, seqname TEXT NOT NULL, protein_id TEXT NOT NULL, gene_id TEXT NOT NULL, strand TEXT NOT NULL, transcript_name TEXT NOT NULL, gene_biotype TEXT NOT NULL, feature TEXT NOT NULL, end INT NOT NULL, transcript_biotype TEXT NOT NULL, exon_version TEXT NOT NULL, gene_version TEXT NOT NULL, ccds_id TEXT NOT NULL, transcript_support_level TEXT NOT NULL, protein_version TEXT NOT NULL, transcript_id TEXT NOT NULL, exon_number TEXT NOT NULL, source TEXT NOT NULL, transcript_version TEXT NOT NULL)\"\n",
      "INFO:datacache.database:Inserting 91861 rows into table stop_codon\n",
      "INFO:datacache.database:Creating index on stop_codon (seqname, start, end)\n",
      "INFO:datacache.database:Creating index on stop_codon (gene_name)\n",
      "INFO:datacache.database:Creating index on stop_codon (gene_id)\n",
      "INFO:datacache.database:Creating index on stop_codon (transcript_id)\n",
      "INFO:datacache.database:Creating index on stop_codon (transcript_name)\n",
      "INFO:datacache.database:Creating index on stop_codon (exon_id)\n",
      "INFO:datacache.database:Creating index on stop_codon (protein_id)\n",
      "INFO:datacache.database:Creating index on stop_codon (ccds_id)\n",
      "INFO:datacache.database:Running sqlite query: \"CREATE TABLE start_codon (gene_name TEXT NOT NULL, start INT NOT NULL, exon_id TEXT NOT NULL, seqname TEXT NOT NULL, protein_id TEXT NOT NULL, gene_id TEXT NOT NULL, strand TEXT NOT NULL, transcript_name TEXT NOT NULL, gene_biotype TEXT NOT NULL, feature TEXT NOT NULL, end INT NOT NULL, transcript_biotype TEXT NOT NULL, exon_version TEXT NOT NULL, gene_version TEXT NOT NULL, ccds_id TEXT NOT NULL, transcript_support_level TEXT NOT NULL, protein_version TEXT NOT NULL, transcript_id TEXT NOT NULL, exon_number TEXT NOT NULL, source TEXT NOT NULL, transcript_version TEXT NOT NULL)\"\n",
      "INFO:datacache.database:Inserting 97935 rows into table start_codon\n",
      "INFO:datacache.database:Creating index on start_codon (seqname, start, end)\n",
      "INFO:datacache.database:Creating index on start_codon (gene_name)\n",
      "INFO:datacache.database:Creating index on start_codon (gene_id)\n",
      "INFO:datacache.database:Creating index on start_codon (transcript_id)\n",
      "INFO:datacache.database:Creating index on start_codon (transcript_name)\n",
      "INFO:datacache.database:Creating index on start_codon (exon_id)\n",
      "INFO:datacache.database:Creating index on start_codon (protein_id)\n",
      "INFO:datacache.database:Creating index on start_codon (ccds_id)\n",
      "INFO:datacache.database:Running sqlite query: \"CREATE TABLE transcript (gene_name TEXT NOT NULL, start INT NOT NULL, exon_id TEXT NOT NULL, seqname TEXT NOT NULL, protein_id TEXT NOT NULL, gene_id TEXT NOT NULL, strand TEXT NOT NULL, transcript_name TEXT NOT NULL, gene_biotype TEXT NOT NULL, feature TEXT NOT NULL, end INT NOT NULL, transcript_biotype TEXT NOT NULL, exon_version TEXT NOT NULL, gene_version TEXT NOT NULL, ccds_id TEXT NOT NULL, transcript_support_level TEXT NOT NULL, protein_version TEXT NOT NULL, transcript_id TEXT UNIQUE PRIMARY KEY NOT NULL, exon_number TEXT NOT NULL, source TEXT NOT NULL, transcript_version TEXT NOT NULL)\"\n",
      "INFO:datacache.database:Inserting 252894 rows into table transcript\n",
      "INFO:datacache.database:Creating index on transcript (seqname, start, end)\n",
      "INFO:datacache.database:Creating index on transcript (gene_name)\n",
      "INFO:datacache.database:Creating index on transcript (gene_id)\n",
      "INFO:datacache.database:Creating index on transcript (transcript_name)\n",
      "INFO:datacache.database:Creating index on transcript (exon_id)\n",
      "INFO:datacache.database:Creating index on transcript (protein_id)\n",
      "INFO:datacache.database:Creating index on transcript (ccds_id)\n",
      "INFO:datacache.database:Running sqlite query: \"CREATE TABLE _datacache_metadata (version INT)\"\n",
      "INFO:datacache.database:Running sqlite query: \"INSERT INTO _datacache_metadata VALUES (3)\"\n",
      "INFO:pyensembl.sequence_data:Parsing sequences from FASTA file at /home/jovyan/.cache/pyensembl/GRCh38/ensembl110/Homo_sapiens.GRCh38.cdna.all.fa.gz\n",
      "INFO:pyensembl.sequence_data:Saving sequence dictionary to /home/jovyan/.cache/pyensembl/GRCh38/ensembl110/Homo_sapiens.GRCh38.cdna.all.fa.gz.pickle\n",
      "INFO:pyensembl.sequence_data:Parsing sequences from FASTA file at /home/jovyan/.cache/pyensembl/GRCh38/ensembl110/Homo_sapiens.GRCh38.ncrna.fa.gz\n",
      "INFO:pyensembl.sequence_data:Saving sequence dictionary to /home/jovyan/.cache/pyensembl/GRCh38/ensembl110/Homo_sapiens.GRCh38.ncrna.fa.gz.pickle\n",
      "INFO:pyensembl.sequence_data:Parsing sequences from FASTA file at /home/jovyan/.cache/pyensembl/GRCh38/ensembl110/Homo_sapiens.GRCh38.pep.all.fa.gz\n",
      "INFO:pyensembl.sequence_data:Saving sequence dictionary to /home/jovyan/.cache/pyensembl/GRCh38/ensembl110/Homo_sapiens.GRCh38.pep.all.fa.gz.pickle\n",
      "INFO:helical.utils.mapping:Mapped 19313 genes to Ensembl IDs from a total of 32738 genes.\n",
      "INFO:helical.models.geneformer.geneformer_tokenizer:AnnData object with n_obs × n_vars = 10000 × 32738\n",
      "    obs: 'samples', 'patient', 'tissue', 'total_counts'\n",
      "    var: 'gene_names', 'ensembl_id', 'gene_ids_collapsed' has no column attribute 'filter_pass'; tokenizing all cells.\n",
      "INFO:helical.models.geneformer.geneformer_tokenizer:Creating dataset.\n"
     ]
    },
    {
     "data": {
      "application/vnd.jupyter.widget-view+json": {
       "model_id": "c1ec64c95e2441b3912ad4cc859d5f76",
       "version_major": 2,
       "version_minor": 0
      },
      "text/plain": [
       "Map:   0%|          | 0/10000 [00:00<?, ? examples/s]"
      ]
     },
     "metadata": {},
     "output_type": "display_data"
    },
    {
     "data": {
      "text/plain": [
       "Dataset({\n",
       "    features: ['input_ids', 'length'],\n",
       "    num_rows: 10000\n",
       "})"
      ]
     },
     "execution_count": 28,
     "metadata": {},
     "output_type": "execute_result"
    }
   ],
   "source": [
    "dataset = geneformer.process_data(adata_combined, gene_names=\"gene_names\") # Maybe seperate MODIFIED from the rest\n",
    "dataset"
   ]
  },
  {
   "cell_type": "code",
   "execution_count": 29,
   "id": "64f4b1d8-18a3-4295-8951-4644be26f773",
   "metadata": {},
   "outputs": [
    {
     "data": {
      "text/plain": [
       "Dataset({\n",
       "    features: ['input_ids', 'length', 'tissue', 'patient'],\n",
       "    num_rows: 10000\n",
       "})"
      ]
     },
     "execution_count": 29,
     "metadata": {},
     "output_type": "execute_result"
    }
   ],
   "source": [
    "dataset = dataset.add_column(\"tissue\", adata_combined.obs['tissue'].tolist())\n",
    "dataset = dataset.add_column(\"patient\", adata_combined.obs['patient'].tolist())\n",
    "dataset"
   ]
  },
  {
   "cell_type": "code",
   "execution_count": 30,
   "id": "d534e63c-6ca5-462d-90d7-85b9dcc3cd5a",
   "metadata": {},
   "outputs": [
    {
     "name": "stderr",
     "output_type": "stream",
     "text": [
      "INFO:helical.models.geneformer.model:Inference started:\n"
     ]
    },
    {
     "data": {
      "application/vnd.jupyter.widget-view+json": {
       "model_id": "a18905c0e8cf48fc991d8d724120458a",
       "version_major": 2,
       "version_minor": 0
      },
      "text/plain": [
       "  0%|          | 0/100 [00:00<?, ?it/s]"
      ]
     },
     "metadata": {},
     "output_type": "display_data"
    },
    {
     "name": "stderr",
     "output_type": "stream",
     "text": [
      "<frozen importlib._bootstrap>:1047: ImportWarning: NotebookFinder.find_spec() not found; falling back to find_module()\n"
     ]
    },
    {
     "data": {
      "text/plain": [
       "array([[-0.00152033,  0.00857751,  0.06852891, ..., -0.01273486,\n",
       "        -0.0053502 , -0.03958685],\n",
       "       [-0.01209087,  0.00812419,  0.08059379, ..., -0.00642472,\n",
       "         0.00311027, -0.04242285],\n",
       "       [-0.03827563, -0.02448463,  0.06833865, ..., -0.04742155,\n",
       "         0.03480127, -0.05131922],\n",
       "       ...,\n",
       "       [-0.01957471, -0.01962318,  0.06823943, ..., -0.03117719,\n",
       "         0.00642839, -0.03632931],\n",
       "       [-0.0324485 , -0.02102665,  0.04771277, ..., -0.01398094,\n",
       "         0.02815565, -0.02868117],\n",
       "       [-0.04091785, -0.01616941,  0.05389525, ..., -0.0321766 ,\n",
       "         0.01301332, -0.03640614]], dtype=float32)"
      ]
     },
     "execution_count": 30,
     "metadata": {},
     "output_type": "execute_result"
    }
   ],
   "source": [
    "N = 1000  # Number of rows to sample because I don't have enough time to embedded them all\n",
    "sampled_dataset = dataset.shuffle(seed=seed).select(range(N))\n",
    "embeddings = geneformer.get_embeddings(sampled_dataset)\n",
    "embeddings"
   ]
  },
  {
   "cell_type": "markdown",
   "id": "a6777bbe-acc9-46e0-86b4-6128e4d1be7b",
   "metadata": {},
   "source": [
    "## 6) Saving embeddings to a file"
   ]
  },
  {
   "cell_type": "code",
   "execution_count": 31,
   "id": "9e27981f-64d0-4c2c-8531-4805b1c91dcc",
   "metadata": {},
   "outputs": [],
   "source": [
    "np.save(\"embeddings.npy\", embeddings)"
   ]
  },
  {
   "cell_type": "code",
   "execution_count": 32,
   "id": "a63a4674-9172-40fd-88a1-89d2b26eb76d",
   "metadata": {},
   "outputs": [
    {
     "data": {
      "text/html": [
       "<div>\n",
       "<style scoped>\n",
       "    .dataframe tbody tr th:only-of-type {\n",
       "        vertical-align: middle;\n",
       "    }\n",
       "\n",
       "    .dataframe tbody tr th {\n",
       "        vertical-align: top;\n",
       "    }\n",
       "\n",
       "    .dataframe thead th {\n",
       "        text-align: right;\n",
       "    }\n",
       "</style>\n",
       "<table border=\"1\" class=\"dataframe\">\n",
       "  <thead>\n",
       "    <tr style=\"text-align: right;\">\n",
       "      <th></th>\n",
       "      <th>tissue</th>\n",
       "    </tr>\n",
       "  </thead>\n",
       "  <tbody>\n",
       "    <tr>\n",
       "      <th>0</th>\n",
       "      <td>3</td>\n",
       "    </tr>\n",
       "    <tr>\n",
       "      <th>1</th>\n",
       "      <td>3</td>\n",
       "    </tr>\n",
       "    <tr>\n",
       "      <th>2</th>\n",
       "      <td>1</td>\n",
       "    </tr>\n",
       "    <tr>\n",
       "      <th>3</th>\n",
       "      <td>3</td>\n",
       "    </tr>\n",
       "    <tr>\n",
       "      <th>4</th>\n",
       "      <td>0</td>\n",
       "    </tr>\n",
       "    <tr>\n",
       "      <th>...</th>\n",
       "      <td>...</td>\n",
       "    </tr>\n",
       "    <tr>\n",
       "      <th>995</th>\n",
       "      <td>3</td>\n",
       "    </tr>\n",
       "    <tr>\n",
       "      <th>996</th>\n",
       "      <td>3</td>\n",
       "    </tr>\n",
       "    <tr>\n",
       "      <th>997</th>\n",
       "      <td>1</td>\n",
       "    </tr>\n",
       "    <tr>\n",
       "      <th>998</th>\n",
       "      <td>2</td>\n",
       "    </tr>\n",
       "    <tr>\n",
       "      <th>999</th>\n",
       "      <td>2</td>\n",
       "    </tr>\n",
       "  </tbody>\n",
       "</table>\n",
       "<p>1000 rows × 1 columns</p>\n",
       "</div>"
      ],
      "text/plain": [
       "     tissue\n",
       "0         3\n",
       "1         3\n",
       "2         1\n",
       "3         3\n",
       "4         0\n",
       "..      ...\n",
       "995       3\n",
       "996       3\n",
       "997       1\n",
       "998       2\n",
       "999       2\n",
       "\n",
       "[1000 rows x 1 columns]"
      ]
     },
     "execution_count": 32,
     "metadata": {},
     "output_type": "execute_result"
    }
   ],
   "source": [
    "tissue_df = pd.DataFrame(sampled_dataset['tissue'], columns=[\"tissue\"])\n",
    "tissue_df.to_csv(\"embedding_tissue_info.csv\", index=True)\n",
    "tissue_df"
   ]
  },
  {
   "cell_type": "code",
   "execution_count": 33,
   "id": "82086a19-e70c-4e76-9a71-d0fa2a3bb06d",
   "metadata": {},
   "outputs": [
    {
     "data": {
      "text/html": [
       "<div>\n",
       "<style scoped>\n",
       "    .dataframe tbody tr th:only-of-type {\n",
       "        vertical-align: middle;\n",
       "    }\n",
       "\n",
       "    .dataframe tbody tr th {\n",
       "        vertical-align: top;\n",
       "    }\n",
       "\n",
       "    .dataframe thead th {\n",
       "        text-align: right;\n",
       "    }\n",
       "</style>\n",
       "<table border=\"1\" class=\"dataframe\">\n",
       "  <thead>\n",
       "    <tr style=\"text-align: right;\">\n",
       "      <th></th>\n",
       "      <th>patient</th>\n",
       "    </tr>\n",
       "  </thead>\n",
       "  <tbody>\n",
       "    <tr>\n",
       "      <th>0</th>\n",
       "      <td>4</td>\n",
       "    </tr>\n",
       "    <tr>\n",
       "      <th>1</th>\n",
       "      <td>7</td>\n",
       "    </tr>\n",
       "    <tr>\n",
       "      <th>2</th>\n",
       "      <td>7</td>\n",
       "    </tr>\n",
       "    <tr>\n",
       "      <th>3</th>\n",
       "      <td>4</td>\n",
       "    </tr>\n",
       "    <tr>\n",
       "      <th>4</th>\n",
       "      <td>2</td>\n",
       "    </tr>\n",
       "    <tr>\n",
       "      <th>...</th>\n",
       "      <td>...</td>\n",
       "    </tr>\n",
       "    <tr>\n",
       "      <th>995</th>\n",
       "      <td>9</td>\n",
       "    </tr>\n",
       "    <tr>\n",
       "      <th>996</th>\n",
       "      <td>7</td>\n",
       "    </tr>\n",
       "    <tr>\n",
       "      <th>997</th>\n",
       "      <td>4</td>\n",
       "    </tr>\n",
       "    <tr>\n",
       "      <th>998</th>\n",
       "      <td>2</td>\n",
       "    </tr>\n",
       "    <tr>\n",
       "      <th>999</th>\n",
       "      <td>6</td>\n",
       "    </tr>\n",
       "  </tbody>\n",
       "</table>\n",
       "<p>1000 rows × 1 columns</p>\n",
       "</div>"
      ],
      "text/plain": [
       "     patient\n",
       "0          4\n",
       "1          7\n",
       "2          7\n",
       "3          4\n",
       "4          2\n",
       "..       ...\n",
       "995        9\n",
       "996        7\n",
       "997        4\n",
       "998        2\n",
       "999        6\n",
       "\n",
       "[1000 rows x 1 columns]"
      ]
     },
     "execution_count": 33,
     "metadata": {},
     "output_type": "execute_result"
    }
   ],
   "source": [
    "patient_df = pd.DataFrame(sampled_dataset['patient'], columns=[\"patient\"])\n",
    "patient_df.to_csv(\"embedding_patient_info.csv\", index=True)\n",
    "patient_df"
   ]
  }
 ],
 "metadata": {
  "kernelspec": {
   "display_name": "Python 3 (ipykernel)",
   "language": "python",
   "name": "python3"
  },
  "language_info": {
   "codemirror_mode": {
    "name": "ipython",
    "version": 3
   },
   "file_extension": ".py",
   "mimetype": "text/x-python",
   "name": "python",
   "nbconvert_exporter": "python",
   "pygments_lexer": "ipython3",
   "version": "3.11.6"
  }
 },
 "nbformat": 4,
 "nbformat_minor": 5
}
